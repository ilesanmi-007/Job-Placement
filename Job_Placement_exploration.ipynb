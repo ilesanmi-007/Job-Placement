{
 "cells": [
  {
   "cell_type": "code",
   "execution_count": 1,
   "metadata": {},
   "outputs": [],
   "source": [
    "import numpy as np\n",
    "import pandas as pd\n",
    "import seaborn as sns\n",
    "import matplotlib.pyplot as plt"
   ]
  },
  {
   "attachments": {},
   "cell_type": "markdown",
   "metadata": {},
   "source": [
    "# Gather"
   ]
  },
  {
   "cell_type": "code",
   "execution_count": 62,
   "metadata": {},
   "outputs": [],
   "source": [
    "df = pd.read_csv(r'C:\\Users\\ilesannmi\\Desktop\\Projectssss___\\Job Placement Dataset\\Job_Placement_Data.csv')"
   ]
  },
  {
   "cell_type": "code",
   "execution_count": 19,
   "metadata": {},
   "outputs": [
    {
     "data": {
      "text/html": [
       "<div>\n",
       "<style scoped>\n",
       "    .dataframe tbody tr th:only-of-type {\n",
       "        vertical-align: middle;\n",
       "    }\n",
       "\n",
       "    .dataframe tbody tr th {\n",
       "        vertical-align: top;\n",
       "    }\n",
       "\n",
       "    .dataframe thead th {\n",
       "        text-align: right;\n",
       "    }\n",
       "</style>\n",
       "<table border=\"1\" class=\"dataframe\">\n",
       "  <thead>\n",
       "    <tr style=\"text-align: right;\">\n",
       "      <th></th>\n",
       "      <th>gender</th>\n",
       "      <th>ssc_percentage</th>\n",
       "      <th>ssc_board</th>\n",
       "      <th>hsc_percentage</th>\n",
       "      <th>hsc_board</th>\n",
       "      <th>hsc_subject</th>\n",
       "      <th>degree_percentage</th>\n",
       "      <th>undergrad_degree</th>\n",
       "      <th>work_experience</th>\n",
       "      <th>emp_test_percentage</th>\n",
       "      <th>specialisation</th>\n",
       "      <th>mba_percent</th>\n",
       "      <th>status</th>\n",
       "    </tr>\n",
       "  </thead>\n",
       "  <tbody>\n",
       "    <tr>\n",
       "      <th>0</th>\n",
       "      <td>M</td>\n",
       "      <td>67.00</td>\n",
       "      <td>Others</td>\n",
       "      <td>91.00</td>\n",
       "      <td>Others</td>\n",
       "      <td>Commerce</td>\n",
       "      <td>58.00</td>\n",
       "      <td>Sci&amp;Tech</td>\n",
       "      <td>No</td>\n",
       "      <td>55.0</td>\n",
       "      <td>Mkt&amp;HR</td>\n",
       "      <td>58.80</td>\n",
       "      <td>Placed</td>\n",
       "    </tr>\n",
       "    <tr>\n",
       "      <th>1</th>\n",
       "      <td>M</td>\n",
       "      <td>79.33</td>\n",
       "      <td>Central</td>\n",
       "      <td>78.33</td>\n",
       "      <td>Others</td>\n",
       "      <td>Science</td>\n",
       "      <td>77.48</td>\n",
       "      <td>Sci&amp;Tech</td>\n",
       "      <td>Yes</td>\n",
       "      <td>86.5</td>\n",
       "      <td>Mkt&amp;Fin</td>\n",
       "      <td>66.28</td>\n",
       "      <td>Placed</td>\n",
       "    </tr>\n",
       "    <tr>\n",
       "      <th>2</th>\n",
       "      <td>M</td>\n",
       "      <td>65.00</td>\n",
       "      <td>Central</td>\n",
       "      <td>68.00</td>\n",
       "      <td>Central</td>\n",
       "      <td>Arts</td>\n",
       "      <td>64.00</td>\n",
       "      <td>Comm&amp;Mgmt</td>\n",
       "      <td>No</td>\n",
       "      <td>75.0</td>\n",
       "      <td>Mkt&amp;Fin</td>\n",
       "      <td>57.80</td>\n",
       "      <td>Placed</td>\n",
       "    </tr>\n",
       "  </tbody>\n",
       "</table>\n",
       "</div>"
      ],
      "text/plain": [
       "  gender  ssc_percentage ssc_board  hsc_percentage hsc_board hsc_subject  \\\n",
       "0      M           67.00    Others           91.00    Others    Commerce   \n",
       "1      M           79.33   Central           78.33    Others     Science   \n",
       "2      M           65.00   Central           68.00   Central        Arts   \n",
       "\n",
       "   degree_percentage undergrad_degree work_experience  emp_test_percentage  \\\n",
       "0              58.00         Sci&Tech              No                 55.0   \n",
       "1              77.48         Sci&Tech             Yes                 86.5   \n",
       "2              64.00        Comm&Mgmt              No                 75.0   \n",
       "\n",
       "  specialisation  mba_percent  status  \n",
       "0         Mkt&HR        58.80  Placed  \n",
       "1        Mkt&Fin        66.28  Placed  \n",
       "2        Mkt&Fin        57.80  Placed  "
      ]
     },
     "execution_count": 19,
     "metadata": {},
     "output_type": "execute_result"
    }
   ],
   "source": [
    "df.head(3)"
   ]
  },
  {
   "cell_type": "code",
   "execution_count": 20,
   "metadata": {},
   "outputs": [],
   "source": [
    "#plt.figure(figsize=(12,8))\n",
    "\n",
    "#sns.heatmap(df.corr(), cmap='Blues', annot =True, annot_kws={'fontsize':16, 'fontweight':'bold'})"
   ]
  },
  {
   "cell_type": "code",
   "execution_count": 21,
   "metadata": {},
   "outputs": [
    {
     "data": {
      "text/plain": [
       "(215, 13)"
      ]
     },
     "execution_count": 21,
     "metadata": {},
     "output_type": "execute_result"
    }
   ],
   "source": [
    "df.shape"
   ]
  },
  {
   "cell_type": "code",
   "execution_count": 22,
   "metadata": {},
   "outputs": [
    {
     "name": "stdout",
     "output_type": "stream",
     "text": [
      "<class 'pandas.core.frame.DataFrame'>\n",
      "RangeIndex: 215 entries, 0 to 214\n",
      "Data columns (total 13 columns):\n",
      " #   Column               Non-Null Count  Dtype  \n",
      "---  ------               --------------  -----  \n",
      " 0   gender               215 non-null    object \n",
      " 1   ssc_percentage       215 non-null    float64\n",
      " 2   ssc_board            215 non-null    object \n",
      " 3   hsc_percentage       215 non-null    float64\n",
      " 4   hsc_board            215 non-null    object \n",
      " 5   hsc_subject          215 non-null    object \n",
      " 6   degree_percentage    215 non-null    float64\n",
      " 7   undergrad_degree     215 non-null    object \n",
      " 8   work_experience      215 non-null    object \n",
      " 9   emp_test_percentage  215 non-null    float64\n",
      " 10  specialisation       215 non-null    object \n",
      " 11  mba_percent          215 non-null    float64\n",
      " 12  status               215 non-null    object \n",
      "dtypes: float64(5), object(8)\n",
      "memory usage: 22.0+ KB\n"
     ]
    }
   ],
   "source": [
    "df.info()"
   ]
  },
  {
   "cell_type": "code",
   "execution_count": 23,
   "metadata": {},
   "outputs": [
    {
     "data": {
      "text/html": [
       "<div>\n",
       "<style scoped>\n",
       "    .dataframe tbody tr th:only-of-type {\n",
       "        vertical-align: middle;\n",
       "    }\n",
       "\n",
       "    .dataframe tbody tr th {\n",
       "        vertical-align: top;\n",
       "    }\n",
       "\n",
       "    .dataframe thead th {\n",
       "        text-align: right;\n",
       "    }\n",
       "</style>\n",
       "<table border=\"1\" class=\"dataframe\">\n",
       "  <thead>\n",
       "    <tr style=\"text-align: right;\">\n",
       "      <th></th>\n",
       "      <th>ssc_percentage</th>\n",
       "      <th>hsc_percentage</th>\n",
       "      <th>degree_percentage</th>\n",
       "      <th>emp_test_percentage</th>\n",
       "      <th>mba_percent</th>\n",
       "    </tr>\n",
       "  </thead>\n",
       "  <tbody>\n",
       "    <tr>\n",
       "      <th>count</th>\n",
       "      <td>215.000000</td>\n",
       "      <td>215.000000</td>\n",
       "      <td>215.000000</td>\n",
       "      <td>215.000000</td>\n",
       "      <td>215.000000</td>\n",
       "    </tr>\n",
       "    <tr>\n",
       "      <th>mean</th>\n",
       "      <td>67.303395</td>\n",
       "      <td>66.333163</td>\n",
       "      <td>66.370186</td>\n",
       "      <td>72.100558</td>\n",
       "      <td>62.278186</td>\n",
       "    </tr>\n",
       "    <tr>\n",
       "      <th>std</th>\n",
       "      <td>10.827205</td>\n",
       "      <td>10.897509</td>\n",
       "      <td>7.358743</td>\n",
       "      <td>13.275956</td>\n",
       "      <td>5.833385</td>\n",
       "    </tr>\n",
       "    <tr>\n",
       "      <th>min</th>\n",
       "      <td>40.890000</td>\n",
       "      <td>37.000000</td>\n",
       "      <td>50.000000</td>\n",
       "      <td>50.000000</td>\n",
       "      <td>51.210000</td>\n",
       "    </tr>\n",
       "    <tr>\n",
       "      <th>25%</th>\n",
       "      <td>60.600000</td>\n",
       "      <td>60.900000</td>\n",
       "      <td>61.000000</td>\n",
       "      <td>60.000000</td>\n",
       "      <td>57.945000</td>\n",
       "    </tr>\n",
       "    <tr>\n",
       "      <th>50%</th>\n",
       "      <td>67.000000</td>\n",
       "      <td>65.000000</td>\n",
       "      <td>66.000000</td>\n",
       "      <td>71.000000</td>\n",
       "      <td>62.000000</td>\n",
       "    </tr>\n",
       "    <tr>\n",
       "      <th>75%</th>\n",
       "      <td>75.700000</td>\n",
       "      <td>73.000000</td>\n",
       "      <td>72.000000</td>\n",
       "      <td>83.500000</td>\n",
       "      <td>66.255000</td>\n",
       "    </tr>\n",
       "    <tr>\n",
       "      <th>max</th>\n",
       "      <td>89.400000</td>\n",
       "      <td>97.700000</td>\n",
       "      <td>91.000000</td>\n",
       "      <td>98.000000</td>\n",
       "      <td>77.890000</td>\n",
       "    </tr>\n",
       "  </tbody>\n",
       "</table>\n",
       "</div>"
      ],
      "text/plain": [
       "       ssc_percentage  hsc_percentage  degree_percentage  emp_test_percentage  \\\n",
       "count      215.000000      215.000000         215.000000           215.000000   \n",
       "mean        67.303395       66.333163          66.370186            72.100558   \n",
       "std         10.827205       10.897509           7.358743            13.275956   \n",
       "min         40.890000       37.000000          50.000000            50.000000   \n",
       "25%         60.600000       60.900000          61.000000            60.000000   \n",
       "50%         67.000000       65.000000          66.000000            71.000000   \n",
       "75%         75.700000       73.000000          72.000000            83.500000   \n",
       "max         89.400000       97.700000          91.000000            98.000000   \n",
       "\n",
       "       mba_percent  \n",
       "count   215.000000  \n",
       "mean     62.278186  \n",
       "std       5.833385  \n",
       "min      51.210000  \n",
       "25%      57.945000  \n",
       "50%      62.000000  \n",
       "75%      66.255000  \n",
       "max      77.890000  "
      ]
     },
     "execution_count": 23,
     "metadata": {},
     "output_type": "execute_result"
    }
   ],
   "source": [
    "df.describe()"
   ]
  },
  {
   "attachments": {},
   "cell_type": "markdown",
   "metadata": {},
   "source": [
    "# Assess"
   ]
  },
  {
   "cell_type": "code",
   "execution_count": 24,
   "metadata": {},
   "outputs": [
    {
     "data": {
      "text/plain": [
       "array(['M', 'F'], dtype=object)"
      ]
     },
     "execution_count": 24,
     "metadata": {},
     "output_type": "execute_result"
    }
   ],
   "source": [
    "# A look at ther gender types\n",
    "df.gender.unique()"
   ]
  },
  {
   "cell_type": "code",
   "execution_count": 25,
   "metadata": {},
   "outputs": [
    {
     "data": {
      "image/png": "[encoded data removed]",
      "text/plain": [
       "<Figure size 640x480 with 1 Axes>"
      ]
     },
     "metadata": {},
     "output_type": "display_data"
    }
   ],
   "source": [
    "#ssc_percentage refers to their secondary school result percetage\n",
    "\n",
    "df.ssc_percentage.hist()\n",
    "plt.title(\"Histogram of ssce results\")\n",
    "plt.show()"
   ]
  },
  {
   "cell_type": "code",
   "execution_count": 26,
   "metadata": {},
   "outputs": [
    {
     "data": {
      "text/plain": [
       "Central    116\n",
       "Others      99\n",
       "Name: ssc_board, dtype: int64"
      ]
     },
     "execution_count": 26,
     "metadata": {},
     "output_type": "execute_result"
    }
   ],
   "source": [
    "#ssc_board \n",
    "df.ssc_board.unique()\n",
    "\n",
    "df.ssc_board.value_counts()"
   ]
  },
  {
   "attachments": {},
   "cell_type": "markdown",
   "metadata": {},
   "source": [
    "### **Higher Education Result**"
   ]
  },
  {
   "cell_type": "code",
   "execution_count": 27,
   "metadata": {},
   "outputs": [
    {
     "data": {
      "image/png": "[encoded data removed]",
      "text/plain": [
       "<Figure size 640x480 with 1 Axes>"
      ]
     },
     "metadata": {},
     "output_type": "display_data"
    }
   ],
   "source": [
    "#ssc_percentage refers to their secondary school result percetage\n",
    "\n",
    "df.hsc_percentage.hist()\n",
    "plt.title(\"Histogram of hsc results\")\n",
    "plt.show()"
   ]
  },
  {
   "cell_type": "code",
   "execution_count": 28,
   "metadata": {},
   "outputs": [
    {
     "data": {
      "text/plain": [
       "Others     131\n",
       "Central     84\n",
       "Name: hsc_board, dtype: int64"
      ]
     },
     "execution_count": 28,
     "metadata": {},
     "output_type": "execute_result"
    }
   ],
   "source": [
    "df.hsc_board.value_counts()"
   ]
  },
  {
   "cell_type": "code",
   "execution_count": 29,
   "metadata": {},
   "outputs": [
    {
     "data": {
      "text/plain": [
       "(215, 215)"
      ]
     },
     "execution_count": 29,
     "metadata": {},
     "output_type": "execute_result"
    }
   ],
   "source": [
    "131+84, 99 + 116"
   ]
  },
  {
   "attachments": {},
   "cell_type": "markdown",
   "metadata": {},
   "source": [
    "#### Still a total of 215 boards"
   ]
  },
  {
   "cell_type": "code",
   "execution_count": 30,
   "metadata": {},
   "outputs": [
    {
     "data": {
      "image/png": "[encoded data removed]",
      "text/plain": [
       "<Figure size 640x480 with 1 Axes>"
      ]
     },
     "metadata": {},
     "output_type": "display_data"
    }
   ],
   "source": [
    "#frequency of higher degree courses offered\n",
    "\n",
    "df.hsc_subject.value_counts().plot(kind= 'barh')\n",
    "plt.title('frequency of courses offered')\n",
    "plt.show()\n"
   ]
  },
  {
   "cell_type": "code",
   "execution_count": 31,
   "metadata": {},
   "outputs": [
    {
     "data": {
      "text/plain": [
       "Comm&Mgmt    145\n",
       "Sci&Tech      59\n",
       "Others        11\n",
       "Name: undergrad_degree, dtype: int64"
      ]
     },
     "execution_count": 31,
     "metadata": {},
     "output_type": "execute_result"
    }
   ],
   "source": [
    "#underdegree course\n",
    "\n",
    "df.undergrad_degree.value_counts()"
   ]
  },
  {
   "attachments": {},
   "cell_type": "markdown",
   "metadata": {},
   "source": [
    "##### More of commercial"
   ]
  },
  {
   "cell_type": "code",
   "execution_count": 32,
   "metadata": {},
   "outputs": [
    {
     "data": {
      "text/plain": [
       "No     141\n",
       "Yes     74\n",
       "Name: work_experience, dtype: int64"
      ]
     },
     "execution_count": 32,
     "metadata": {},
     "output_type": "execute_result"
    }
   ],
   "source": [
    "#work experience \n",
    "\n",
    "df.work_experience.value_counts()\n",
    "\n",
    "#many doesnt have work experience"
   ]
  },
  {
   "cell_type": "code",
   "execution_count": 33,
   "metadata": {},
   "outputs": [
    {
     "data": {
      "text/plain": [
       "Mkt&Fin    120\n",
       "Mkt&HR      95\n",
       "Name: specialisation, dtype: int64"
      ]
     },
     "execution_count": 33,
     "metadata": {},
     "output_type": "execute_result"
    }
   ],
   "source": [
    "#Specialization\n",
    "\n",
    "df.specialisation.value_counts()"
   ]
  },
  {
   "cell_type": "code",
   "execution_count": 34,
   "metadata": {},
   "outputs": [
    {
     "data": {
      "text/html": [
       "<div>\n",
       "<style scoped>\n",
       "    .dataframe tbody tr th:only-of-type {\n",
       "        vertical-align: middle;\n",
       "    }\n",
       "\n",
       "    .dataframe tbody tr th {\n",
       "        vertical-align: top;\n",
       "    }\n",
       "\n",
       "    .dataframe thead th {\n",
       "        text-align: right;\n",
       "    }\n",
       "</style>\n",
       "<table border=\"1\" class=\"dataframe\">\n",
       "  <thead>\n",
       "    <tr style=\"text-align: right;\">\n",
       "      <th></th>\n",
       "      <th>gender</th>\n",
       "      <th>ssc_percentage</th>\n",
       "      <th>ssc_board</th>\n",
       "      <th>hsc_percentage</th>\n",
       "      <th>hsc_board</th>\n",
       "      <th>hsc_subject</th>\n",
       "      <th>degree_percentage</th>\n",
       "      <th>undergrad_degree</th>\n",
       "      <th>work_experience</th>\n",
       "      <th>emp_test_percentage</th>\n",
       "      <th>specialisation</th>\n",
       "      <th>mba_percent</th>\n",
       "      <th>status</th>\n",
       "    </tr>\n",
       "  </thead>\n",
       "  <tbody>\n",
       "    <tr>\n",
       "      <th>0</th>\n",
       "      <td>M</td>\n",
       "      <td>67.00</td>\n",
       "      <td>Others</td>\n",
       "      <td>91.00</td>\n",
       "      <td>Others</td>\n",
       "      <td>Commerce</td>\n",
       "      <td>58.00</td>\n",
       "      <td>Sci&amp;Tech</td>\n",
       "      <td>No</td>\n",
       "      <td>55.0</td>\n",
       "      <td>Mkt&amp;HR</td>\n",
       "      <td>58.80</td>\n",
       "      <td>Placed</td>\n",
       "    </tr>\n",
       "    <tr>\n",
       "      <th>1</th>\n",
       "      <td>M</td>\n",
       "      <td>79.33</td>\n",
       "      <td>Central</td>\n",
       "      <td>78.33</td>\n",
       "      <td>Others</td>\n",
       "      <td>Science</td>\n",
       "      <td>77.48</td>\n",
       "      <td>Sci&amp;Tech</td>\n",
       "      <td>Yes</td>\n",
       "      <td>86.5</td>\n",
       "      <td>Mkt&amp;Fin</td>\n",
       "      <td>66.28</td>\n",
       "      <td>Placed</td>\n",
       "    </tr>\n",
       "  </tbody>\n",
       "</table>\n",
       "</div>"
      ],
      "text/plain": [
       "  gender  ssc_percentage ssc_board  hsc_percentage hsc_board hsc_subject  \\\n",
       "0      M           67.00    Others           91.00    Others    Commerce   \n",
       "1      M           79.33   Central           78.33    Others     Science   \n",
       "\n",
       "   degree_percentage undergrad_degree work_experience  emp_test_percentage  \\\n",
       "0              58.00         Sci&Tech              No                 55.0   \n",
       "1              77.48         Sci&Tech             Yes                 86.5   \n",
       "\n",
       "  specialisation  mba_percent  status  \n",
       "0         Mkt&HR        58.80  Placed  \n",
       "1        Mkt&Fin        66.28  Placed  "
      ]
     },
     "execution_count": 34,
     "metadata": {},
     "output_type": "execute_result"
    }
   ],
   "source": [
    "df.head(2)"
   ]
  },
  {
   "cell_type": "code",
   "execution_count": 45,
   "metadata": {},
   "outputs": [
    {
     "data": {
      "image/png": "[encoded data removed]",
      "text/plain": [
       "<Figure size 640x480 with 1 Axes>"
      ]
     },
     "metadata": {},
     "output_type": "display_data"
    }
   ],
   "source": [
    "\n",
    "# Calculate the frequencies of each combination of categories\n",
    "counts = df.groupby(['specialisation', 'undergrad_degree']).size().reset_index(name='counts')\n",
    "\n",
    "# Create a clustered bar chart using Seaborn\n",
    "sns.set(style=\"whitegrid\")\n",
    "ax = sns.barplot(x=\"specialisation\", y=\"counts\", hue=\"undergrad_degree\", data=counts)\n",
    "\n",
    "# Add values of each bar on top of them\n",
    "for p in ax.patches:\n",
    "    ax.annotate(f\"{p.get_height()}\", (p.get_x() + p.get_width() / 2, p.get_height()), ha='center', va='center', xytext=(0, 5), textcoords='offset points')\n",
    "\n",
    "\n",
    "plt.show()"
   ]
  },
  {
   "attachments": {},
   "cell_type": "markdown",
   "metadata": {},
   "source": [
    "#### how many undergraduate has work experience?\n",
    "\n"
   ]
  },
  {
   "cell_type": "code",
   "execution_count": 133,
   "metadata": {},
   "outputs": [
    {
     "data": {
      "image/png": "[encoded data removed]",
      "text/plain": [
       "<Figure size 640x480 with 1 Axes>"
      ]
     },
     "metadata": {},
     "output_type": "display_data"
    }
   ],
   "source": [
    "#countt = df.groupby(['undergrad_degree', 'work_experience']).size().plot(kind = 'barh')\n",
    "\n",
    "countt = df.groupby(['work_experience', 'undergrad_degree']).size().reset_index(name='counts')\n",
    "\n",
    "# Create a clustered bar chart using Seaborn\n",
    "sns.set(style=\"whitegrid\")\n",
    "ax = sns.barplot(x=\"work_experience\", y=\"counts\", hue=\"undergrad_degree\", data=countt)\n",
    "\n",
    "# Add values of each bar on top of them\n",
    "for p in ax.patches:\n",
    "    ax.annotate(f\"{p.get_height()}\", (p.get_x() + p.get_width() / 2, p.get_height()), ha='center', va='center', xytext=(0, 5), textcoords='offset points')\n",
    "\n",
    "\n",
    "plt.show()"
   ]
  },
  {
   "attachments": {},
   "cell_type": "markdown",
   "metadata": {},
   "source": [
    "#### **Observation:** many undergraduate has no experience"
   ]
  },
  {
   "attachments": {},
   "cell_type": "markdown",
   "metadata": {},
   "source": [
    "## Job placement in relation to work experience\n",
    "\n",
    "### Does work experience matter??"
   ]
  },
  {
   "cell_type": "code",
   "execution_count": 134,
   "metadata": {},
   "outputs": [
    {
     "data": {
      "image/png": "[encoded data removed]",
      "text/plain": [
       "<Figure size 640x480 with 1 Axes>"
      ]
     },
     "metadata": {},
     "output_type": "display_data"
    }
   ],
   "source": [
    "#countt = df.groupby(['undergrad_degree', 'work_experience']).size().plot(kind = 'barh')\n",
    "\n",
    "countt = df.groupby(['work_experience', 'status']).size().reset_index(name='counts')\n",
    "\n",
    "# Create a clustered bar chart using Seaborn\n",
    "sns.set(style=\"whitegrid\")\n",
    "ax = sns.barplot(x=\"work_experience\", y=\"counts\", hue=\"status\", data=countt)\n",
    "\n",
    "# Add values of each bar on top of them\n",
    "for p in ax.patches:\n",
    "    ax.annotate(f\"{p.get_height()}\", (p.get_x() + p.get_width() / 2, p.get_height()), ha='center', va='center', xytext=(0, 5), textcoords='offset points')\n",
    "\n",
    "\n",
    "plt.show()"
   ]
  },
  {
   "attachments": {},
   "cell_type": "markdown",
   "metadata": {},
   "source": [
    "#### **Obseervation:**  Work experience doesnt really matter"
   ]
  },
  {
   "cell_type": "code",
   "execution_count": null,
   "metadata": {},
   "outputs": [],
   "source": []
  },
  {
   "cell_type": "code",
   "execution_count": null,
   "metadata": {},
   "outputs": [],
   "source": []
  },
  {
   "attachments": {},
   "cell_type": "markdown",
   "metadata": {},
   "source": [
    "## Label Encoding"
   ]
  },
  {
   "cell_type": "code",
   "execution_count": 46,
   "metadata": {},
   "outputs": [],
   "source": [
    "from sklearn.preprocessing import LabelEncoder"
   ]
  },
  {
   "cell_type": "code",
   "execution_count": 63,
   "metadata": {},
   "outputs": [],
   "source": [
    "df_new = df.copy() #backup for Labeling\n",
    "\n",
    "\n",
    "for col in df_new.columns:\n",
    "    if df_new[col].dtype == 'object':\n",
    "        le = LabelEncoder()\n",
    "        df_new[col] = le.fit_transform(df_new[col])\n"
   ]
  },
  {
   "cell_type": "code",
   "execution_count": 66,
   "metadata": {},
   "outputs": [
    {
     "data": {
      "text/html": [
       "<div>\n",
       "<style scoped>\n",
       "    .dataframe tbody tr th:only-of-type {\n",
       "        vertical-align: middle;\n",
       "    }\n",
       "\n",
       "    .dataframe tbody tr th {\n",
       "        vertical-align: top;\n",
       "    }\n",
       "\n",
       "    .dataframe thead th {\n",
       "        text-align: right;\n",
       "    }\n",
       "</style>\n",
       "<table border=\"1\" class=\"dataframe\">\n",
       "  <thead>\n",
       "    <tr style=\"text-align: right;\">\n",
       "      <th></th>\n",
       "      <th>gender</th>\n",
       "      <th>ssc_percentage</th>\n",
       "      <th>ssc_board</th>\n",
       "      <th>hsc_percentage</th>\n",
       "      <th>hsc_board</th>\n",
       "      <th>hsc_subject</th>\n",
       "      <th>degree_percentage</th>\n",
       "      <th>undergrad_degree</th>\n",
       "      <th>work_experience</th>\n",
       "      <th>emp_test_percentage</th>\n",
       "      <th>specialisation</th>\n",
       "      <th>mba_percent</th>\n",
       "      <th>status</th>\n",
       "    </tr>\n",
       "  </thead>\n",
       "  <tbody>\n",
       "    <tr>\n",
       "      <th>0</th>\n",
       "      <td>M</td>\n",
       "      <td>67.00</td>\n",
       "      <td>Others</td>\n",
       "      <td>91.00</td>\n",
       "      <td>Others</td>\n",
       "      <td>Commerce</td>\n",
       "      <td>58.00</td>\n",
       "      <td>Sci&amp;Tech</td>\n",
       "      <td>No</td>\n",
       "      <td>55.00</td>\n",
       "      <td>Mkt&amp;HR</td>\n",
       "      <td>58.80</td>\n",
       "      <td>Placed</td>\n",
       "    </tr>\n",
       "    <tr>\n",
       "      <th>1</th>\n",
       "      <td>M</td>\n",
       "      <td>79.33</td>\n",
       "      <td>Central</td>\n",
       "      <td>78.33</td>\n",
       "      <td>Others</td>\n",
       "      <td>Science</td>\n",
       "      <td>77.48</td>\n",
       "      <td>Sci&amp;Tech</td>\n",
       "      <td>Yes</td>\n",
       "      <td>86.50</td>\n",
       "      <td>Mkt&amp;Fin</td>\n",
       "      <td>66.28</td>\n",
       "      <td>Placed</td>\n",
       "    </tr>\n",
       "    <tr>\n",
       "      <th>2</th>\n",
       "      <td>M</td>\n",
       "      <td>65.00</td>\n",
       "      <td>Central</td>\n",
       "      <td>68.00</td>\n",
       "      <td>Central</td>\n",
       "      <td>Arts</td>\n",
       "      <td>64.00</td>\n",
       "      <td>Comm&amp;Mgmt</td>\n",
       "      <td>No</td>\n",
       "      <td>75.00</td>\n",
       "      <td>Mkt&amp;Fin</td>\n",
       "      <td>57.80</td>\n",
       "      <td>Placed</td>\n",
       "    </tr>\n",
       "    <tr>\n",
       "      <th>3</th>\n",
       "      <td>M</td>\n",
       "      <td>56.00</td>\n",
       "      <td>Central</td>\n",
       "      <td>52.00</td>\n",
       "      <td>Central</td>\n",
       "      <td>Science</td>\n",
       "      <td>52.00</td>\n",
       "      <td>Sci&amp;Tech</td>\n",
       "      <td>No</td>\n",
       "      <td>66.00</td>\n",
       "      <td>Mkt&amp;HR</td>\n",
       "      <td>59.43</td>\n",
       "      <td>Not Placed</td>\n",
       "    </tr>\n",
       "    <tr>\n",
       "      <th>4</th>\n",
       "      <td>M</td>\n",
       "      <td>85.80</td>\n",
       "      <td>Central</td>\n",
       "      <td>73.60</td>\n",
       "      <td>Central</td>\n",
       "      <td>Commerce</td>\n",
       "      <td>73.30</td>\n",
       "      <td>Comm&amp;Mgmt</td>\n",
       "      <td>No</td>\n",
       "      <td>96.80</td>\n",
       "      <td>Mkt&amp;Fin</td>\n",
       "      <td>55.50</td>\n",
       "      <td>Placed</td>\n",
       "    </tr>\n",
       "    <tr>\n",
       "      <th>5</th>\n",
       "      <td>M</td>\n",
       "      <td>55.00</td>\n",
       "      <td>Others</td>\n",
       "      <td>49.80</td>\n",
       "      <td>Others</td>\n",
       "      <td>Science</td>\n",
       "      <td>67.25</td>\n",
       "      <td>Sci&amp;Tech</td>\n",
       "      <td>Yes</td>\n",
       "      <td>55.00</td>\n",
       "      <td>Mkt&amp;Fin</td>\n",
       "      <td>51.58</td>\n",
       "      <td>Not Placed</td>\n",
       "    </tr>\n",
       "    <tr>\n",
       "      <th>6</th>\n",
       "      <td>F</td>\n",
       "      <td>46.00</td>\n",
       "      <td>Others</td>\n",
       "      <td>49.20</td>\n",
       "      <td>Others</td>\n",
       "      <td>Commerce</td>\n",
       "      <td>79.00</td>\n",
       "      <td>Comm&amp;Mgmt</td>\n",
       "      <td>No</td>\n",
       "      <td>74.28</td>\n",
       "      <td>Mkt&amp;Fin</td>\n",
       "      <td>53.29</td>\n",
       "      <td>Not Placed</td>\n",
       "    </tr>\n",
       "    <tr>\n",
       "      <th>7</th>\n",
       "      <td>M</td>\n",
       "      <td>82.00</td>\n",
       "      <td>Central</td>\n",
       "      <td>64.00</td>\n",
       "      <td>Central</td>\n",
       "      <td>Science</td>\n",
       "      <td>66.00</td>\n",
       "      <td>Sci&amp;Tech</td>\n",
       "      <td>Yes</td>\n",
       "      <td>67.00</td>\n",
       "      <td>Mkt&amp;Fin</td>\n",
       "      <td>62.14</td>\n",
       "      <td>Placed</td>\n",
       "    </tr>\n",
       "    <tr>\n",
       "      <th>8</th>\n",
       "      <td>M</td>\n",
       "      <td>73.00</td>\n",
       "      <td>Central</td>\n",
       "      <td>79.00</td>\n",
       "      <td>Central</td>\n",
       "      <td>Commerce</td>\n",
       "      <td>72.00</td>\n",
       "      <td>Comm&amp;Mgmt</td>\n",
       "      <td>No</td>\n",
       "      <td>91.34</td>\n",
       "      <td>Mkt&amp;Fin</td>\n",
       "      <td>61.29</td>\n",
       "      <td>Placed</td>\n",
       "    </tr>\n",
       "    <tr>\n",
       "      <th>9</th>\n",
       "      <td>M</td>\n",
       "      <td>58.00</td>\n",
       "      <td>Central</td>\n",
       "      <td>70.00</td>\n",
       "      <td>Central</td>\n",
       "      <td>Commerce</td>\n",
       "      <td>61.00</td>\n",
       "      <td>Comm&amp;Mgmt</td>\n",
       "      <td>No</td>\n",
       "      <td>54.00</td>\n",
       "      <td>Mkt&amp;Fin</td>\n",
       "      <td>52.21</td>\n",
       "      <td>Not Placed</td>\n",
       "    </tr>\n",
       "  </tbody>\n",
       "</table>\n",
       "</div>"
      ],
      "text/plain": [
       "  gender  ssc_percentage ssc_board  hsc_percentage hsc_board hsc_subject  \\\n",
       "0      M           67.00    Others           91.00    Others    Commerce   \n",
       "1      M           79.33   Central           78.33    Others     Science   \n",
       "2      M           65.00   Central           68.00   Central        Arts   \n",
       "3      M           56.00   Central           52.00   Central     Science   \n",
       "4      M           85.80   Central           73.60   Central    Commerce   \n",
       "5      M           55.00    Others           49.80    Others     Science   \n",
       "6      F           46.00    Others           49.20    Others    Commerce   \n",
       "7      M           82.00   Central           64.00   Central     Science   \n",
       "8      M           73.00   Central           79.00   Central    Commerce   \n",
       "9      M           58.00   Central           70.00   Central    Commerce   \n",
       "\n",
       "   degree_percentage undergrad_degree work_experience  emp_test_percentage  \\\n",
       "0              58.00         Sci&Tech              No                55.00   \n",
       "1              77.48         Sci&Tech             Yes                86.50   \n",
       "2              64.00        Comm&Mgmt              No                75.00   \n",
       "3              52.00         Sci&Tech              No                66.00   \n",
       "4              73.30        Comm&Mgmt              No                96.80   \n",
       "5              67.25         Sci&Tech             Yes                55.00   \n",
       "6              79.00        Comm&Mgmt              No                74.28   \n",
       "7              66.00         Sci&Tech             Yes                67.00   \n",
       "8              72.00        Comm&Mgmt              No                91.34   \n",
       "9              61.00        Comm&Mgmt              No                54.00   \n",
       "\n",
       "  specialisation  mba_percent      status  \n",
       "0         Mkt&HR        58.80      Placed  \n",
       "1        Mkt&Fin        66.28      Placed  \n",
       "2        Mkt&Fin        57.80      Placed  \n",
       "3         Mkt&HR        59.43  Not Placed  \n",
       "4        Mkt&Fin        55.50      Placed  \n",
       "5        Mkt&Fin        51.58  Not Placed  \n",
       "6        Mkt&Fin        53.29  Not Placed  \n",
       "7        Mkt&Fin        62.14      Placed  \n",
       "8        Mkt&Fin        61.29      Placed  \n",
       "9        Mkt&Fin        52.21  Not Placed  "
      ]
     },
     "execution_count": 66,
     "metadata": {},
     "output_type": "execute_result"
    }
   ],
   "source": [
    "df.head(10)"
   ]
  },
  {
   "cell_type": "code",
   "execution_count": 67,
   "metadata": {},
   "outputs": [
    {
     "data": {
      "text/html": [
       "<div>\n",
       "<style scoped>\n",
       "    .dataframe tbody tr th:only-of-type {\n",
       "        vertical-align: middle;\n",
       "    }\n",
       "\n",
       "    .dataframe tbody tr th {\n",
       "        vertical-align: top;\n",
       "    }\n",
       "\n",
       "    .dataframe thead th {\n",
       "        text-align: right;\n",
       "    }\n",
       "</style>\n",
       "<table border=\"1\" class=\"dataframe\">\n",
       "  <thead>\n",
       "    <tr style=\"text-align: right;\">\n",
       "      <th></th>\n",
       "      <th>gender</th>\n",
       "      <th>ssc_percentage</th>\n",
       "      <th>ssc_board</th>\n",
       "      <th>hsc_percentage</th>\n",
       "      <th>hsc_board</th>\n",
       "      <th>hsc_subject</th>\n",
       "      <th>degree_percentage</th>\n",
       "      <th>undergrad_degree</th>\n",
       "      <th>work_experience</th>\n",
       "      <th>emp_test_percentage</th>\n",
       "      <th>specialisation</th>\n",
       "      <th>mba_percent</th>\n",
       "      <th>status</th>\n",
       "    </tr>\n",
       "  </thead>\n",
       "  <tbody>\n",
       "    <tr>\n",
       "      <th>0</th>\n",
       "      <td>1</td>\n",
       "      <td>67.00</td>\n",
       "      <td>1</td>\n",
       "      <td>91.00</td>\n",
       "      <td>1</td>\n",
       "      <td>1</td>\n",
       "      <td>58.00</td>\n",
       "      <td>2</td>\n",
       "      <td>0</td>\n",
       "      <td>55.00</td>\n",
       "      <td>1</td>\n",
       "      <td>58.80</td>\n",
       "      <td>1</td>\n",
       "    </tr>\n",
       "    <tr>\n",
       "      <th>1</th>\n",
       "      <td>1</td>\n",
       "      <td>79.33</td>\n",
       "      <td>0</td>\n",
       "      <td>78.33</td>\n",
       "      <td>1</td>\n",
       "      <td>2</td>\n",
       "      <td>77.48</td>\n",
       "      <td>2</td>\n",
       "      <td>1</td>\n",
       "      <td>86.50</td>\n",
       "      <td>0</td>\n",
       "      <td>66.28</td>\n",
       "      <td>1</td>\n",
       "    </tr>\n",
       "    <tr>\n",
       "      <th>2</th>\n",
       "      <td>1</td>\n",
       "      <td>65.00</td>\n",
       "      <td>0</td>\n",
       "      <td>68.00</td>\n",
       "      <td>0</td>\n",
       "      <td>0</td>\n",
       "      <td>64.00</td>\n",
       "      <td>0</td>\n",
       "      <td>0</td>\n",
       "      <td>75.00</td>\n",
       "      <td>0</td>\n",
       "      <td>57.80</td>\n",
       "      <td>1</td>\n",
       "    </tr>\n",
       "    <tr>\n",
       "      <th>3</th>\n",
       "      <td>1</td>\n",
       "      <td>56.00</td>\n",
       "      <td>0</td>\n",
       "      <td>52.00</td>\n",
       "      <td>0</td>\n",
       "      <td>2</td>\n",
       "      <td>52.00</td>\n",
       "      <td>2</td>\n",
       "      <td>0</td>\n",
       "      <td>66.00</td>\n",
       "      <td>1</td>\n",
       "      <td>59.43</td>\n",
       "      <td>0</td>\n",
       "    </tr>\n",
       "    <tr>\n",
       "      <th>4</th>\n",
       "      <td>1</td>\n",
       "      <td>85.80</td>\n",
       "      <td>0</td>\n",
       "      <td>73.60</td>\n",
       "      <td>0</td>\n",
       "      <td>1</td>\n",
       "      <td>73.30</td>\n",
       "      <td>0</td>\n",
       "      <td>0</td>\n",
       "      <td>96.80</td>\n",
       "      <td>0</td>\n",
       "      <td>55.50</td>\n",
       "      <td>1</td>\n",
       "    </tr>\n",
       "    <tr>\n",
       "      <th>5</th>\n",
       "      <td>1</td>\n",
       "      <td>55.00</td>\n",
       "      <td>1</td>\n",
       "      <td>49.80</td>\n",
       "      <td>1</td>\n",
       "      <td>2</td>\n",
       "      <td>67.25</td>\n",
       "      <td>2</td>\n",
       "      <td>1</td>\n",
       "      <td>55.00</td>\n",
       "      <td>0</td>\n",
       "      <td>51.58</td>\n",
       "      <td>0</td>\n",
       "    </tr>\n",
       "    <tr>\n",
       "      <th>6</th>\n",
       "      <td>0</td>\n",
       "      <td>46.00</td>\n",
       "      <td>1</td>\n",
       "      <td>49.20</td>\n",
       "      <td>1</td>\n",
       "      <td>1</td>\n",
       "      <td>79.00</td>\n",
       "      <td>0</td>\n",
       "      <td>0</td>\n",
       "      <td>74.28</td>\n",
       "      <td>0</td>\n",
       "      <td>53.29</td>\n",
       "      <td>0</td>\n",
       "    </tr>\n",
       "    <tr>\n",
       "      <th>7</th>\n",
       "      <td>1</td>\n",
       "      <td>82.00</td>\n",
       "      <td>0</td>\n",
       "      <td>64.00</td>\n",
       "      <td>0</td>\n",
       "      <td>2</td>\n",
       "      <td>66.00</td>\n",
       "      <td>2</td>\n",
       "      <td>1</td>\n",
       "      <td>67.00</td>\n",
       "      <td>0</td>\n",
       "      <td>62.14</td>\n",
       "      <td>1</td>\n",
       "    </tr>\n",
       "    <tr>\n",
       "      <th>8</th>\n",
       "      <td>1</td>\n",
       "      <td>73.00</td>\n",
       "      <td>0</td>\n",
       "      <td>79.00</td>\n",
       "      <td>0</td>\n",
       "      <td>1</td>\n",
       "      <td>72.00</td>\n",
       "      <td>0</td>\n",
       "      <td>0</td>\n",
       "      <td>91.34</td>\n",
       "      <td>0</td>\n",
       "      <td>61.29</td>\n",
       "      <td>1</td>\n",
       "    </tr>\n",
       "    <tr>\n",
       "      <th>9</th>\n",
       "      <td>1</td>\n",
       "      <td>58.00</td>\n",
       "      <td>0</td>\n",
       "      <td>70.00</td>\n",
       "      <td>0</td>\n",
       "      <td>1</td>\n",
       "      <td>61.00</td>\n",
       "      <td>0</td>\n",
       "      <td>0</td>\n",
       "      <td>54.00</td>\n",
       "      <td>0</td>\n",
       "      <td>52.21</td>\n",
       "      <td>0</td>\n",
       "    </tr>\n",
       "  </tbody>\n",
       "</table>\n",
       "</div>"
      ],
      "text/plain": [
       "   gender  ssc_percentage  ssc_board  hsc_percentage  hsc_board  hsc_subject  \\\n",
       "0       1           67.00          1           91.00          1            1   \n",
       "1       1           79.33          0           78.33          1            2   \n",
       "2       1           65.00          0           68.00          0            0   \n",
       "3       1           56.00          0           52.00          0            2   \n",
       "4       1           85.80          0           73.60          0            1   \n",
       "5       1           55.00          1           49.80          1            2   \n",
       "6       0           46.00          1           49.20          1            1   \n",
       "7       1           82.00          0           64.00          0            2   \n",
       "8       1           73.00          0           79.00          0            1   \n",
       "9       1           58.00          0           70.00          0            1   \n",
       "\n",
       "   degree_percentage  undergrad_degree  work_experience  emp_test_percentage  \\\n",
       "0              58.00                 2                0                55.00   \n",
       "1              77.48                 2                1                86.50   \n",
       "2              64.00                 0                0                75.00   \n",
       "3              52.00                 2                0                66.00   \n",
       "4              73.30                 0                0                96.80   \n",
       "5              67.25                 2                1                55.00   \n",
       "6              79.00                 0                0                74.28   \n",
       "7              66.00                 2                1                67.00   \n",
       "8              72.00                 0                0                91.34   \n",
       "9              61.00                 0                0                54.00   \n",
       "\n",
       "   specialisation  mba_percent  status  \n",
       "0               1        58.80       1  \n",
       "1               0        66.28       1  \n",
       "2               0        57.80       1  \n",
       "3               1        59.43       0  \n",
       "4               0        55.50       1  \n",
       "5               0        51.58       0  \n",
       "6               0        53.29       0  \n",
       "7               0        62.14       1  \n",
       "8               0        61.29       1  \n",
       "9               0        52.21       0  "
      ]
     },
     "execution_count": 67,
     "metadata": {},
     "output_type": "execute_result"
    }
   ],
   "source": [
    "df_new.head(10)"
   ]
  },
  {
   "cell_type": "code",
   "execution_count": null,
   "metadata": {},
   "outputs": [],
   "source": []
  },
  {
   "attachments": {},
   "cell_type": "markdown",
   "metadata": {},
   "source": [
    "## MinmaxScaler"
   ]
  },
  {
   "cell_type": "code",
   "execution_count": 77,
   "metadata": {},
   "outputs": [],
   "source": [
    "from sklearn.preprocessing import MinMaxScaler\n",
    "\n",
    "scaler = MinMaxScaler()\n",
    "df_new = scaler.fit_transform(df_new)"
   ]
  },
  {
   "cell_type": "code",
   "execution_count": 80,
   "metadata": {},
   "outputs": [
    {
     "data": {
      "text/plain": [
       "array([[1.        , 0.53823954, 1.        , ..., 1.        , 0.28448276,\n",
       "        1.        ],\n",
       "       [1.        , 0.79241394, 0.        , ..., 0.        , 0.56484258,\n",
       "        1.        ],\n",
       "       [1.        , 0.49701093, 0.        , ..., 0.        , 0.2470015 ,\n",
       "        1.        ],\n",
       "       ...,\n",
       "       [1.        , 0.53823954, 1.        , ..., 0.        , 0.69377811,\n",
       "        1.        ],\n",
       "       [0.        , 0.68253968, 1.        , ..., 1.        , 0.33808096,\n",
       "        1.        ],\n",
       "       [1.        , 0.43516801, 0.        , ..., 1.        , 0.33770615,\n",
       "        0.        ]])"
      ]
     },
     "execution_count": 80,
     "metadata": {},
     "output_type": "execute_result"
    }
   ],
   "source": [
    "df_new"
   ]
  },
  {
   "cell_type": "code",
   "execution_count": null,
   "metadata": {},
   "outputs": [],
   "source": []
  },
  {
   "attachments": {},
   "cell_type": "markdown",
   "metadata": {},
   "source": [
    "## Splitting"
   ]
  },
  {
   "cell_type": "code",
   "execution_count": 69,
   "metadata": {},
   "outputs": [
    {
     "data": {
      "text/html": [
       "<div>\n",
       "<style scoped>\n",
       "    .dataframe tbody tr th:only-of-type {\n",
       "        vertical-align: middle;\n",
       "    }\n",
       "\n",
       "    .dataframe tbody tr th {\n",
       "        vertical-align: top;\n",
       "    }\n",
       "\n",
       "    .dataframe thead th {\n",
       "        text-align: right;\n",
       "    }\n",
       "</style>\n",
       "<table border=\"1\" class=\"dataframe\">\n",
       "  <thead>\n",
       "    <tr style=\"text-align: right;\">\n",
       "      <th></th>\n",
       "      <th>gender</th>\n",
       "      <th>ssc_percentage</th>\n",
       "      <th>ssc_board</th>\n",
       "      <th>hsc_percentage</th>\n",
       "      <th>hsc_board</th>\n",
       "      <th>hsc_subject</th>\n",
       "      <th>degree_percentage</th>\n",
       "      <th>undergrad_degree</th>\n",
       "      <th>work_experience</th>\n",
       "      <th>emp_test_percentage</th>\n",
       "      <th>specialisation</th>\n",
       "      <th>mba_percent</th>\n",
       "    </tr>\n",
       "  </thead>\n",
       "  <tbody>\n",
       "    <tr>\n",
       "      <th>0</th>\n",
       "      <td>1</td>\n",
       "      <td>67.00</td>\n",
       "      <td>1</td>\n",
       "      <td>91.00</td>\n",
       "      <td>1</td>\n",
       "      <td>1</td>\n",
       "      <td>58.00</td>\n",
       "      <td>2</td>\n",
       "      <td>0</td>\n",
       "      <td>55.0</td>\n",
       "      <td>1</td>\n",
       "      <td>58.80</td>\n",
       "    </tr>\n",
       "    <tr>\n",
       "      <th>1</th>\n",
       "      <td>1</td>\n",
       "      <td>79.33</td>\n",
       "      <td>0</td>\n",
       "      <td>78.33</td>\n",
       "      <td>1</td>\n",
       "      <td>2</td>\n",
       "      <td>77.48</td>\n",
       "      <td>2</td>\n",
       "      <td>1</td>\n",
       "      <td>86.5</td>\n",
       "      <td>0</td>\n",
       "      <td>66.28</td>\n",
       "    </tr>\n",
       "  </tbody>\n",
       "</table>\n",
       "</div>"
      ],
      "text/plain": [
       "   gender  ssc_percentage  ssc_board  hsc_percentage  hsc_board  hsc_subject  \\\n",
       "0       1           67.00          1           91.00          1            1   \n",
       "1       1           79.33          0           78.33          1            2   \n",
       "\n",
       "   degree_percentage  undergrad_degree  work_experience  emp_test_percentage  \\\n",
       "0              58.00                 2                0                 55.0   \n",
       "1              77.48                 2                1                 86.5   \n",
       "\n",
       "   specialisation  mba_percent  \n",
       "0               1        58.80  \n",
       "1               0        66.28  "
      ]
     },
     "execution_count": 69,
     "metadata": {},
     "output_type": "execute_result"
    }
   ],
   "source": [
    "from sklearn.model_selection import train_test_split\n",
    "\n",
    "X = df_new.drop('status', axis = 1)\n",
    "y = df_new['status']\n",
    "\n",
    "X.head(2)"
   ]
  },
  {
   "cell_type": "code",
   "execution_count": 70,
   "metadata": {},
   "outputs": [
    {
     "data": {
      "text/plain": [
       "0      1\n",
       "1      1\n",
       "2      1\n",
       "3      0\n",
       "4      1\n",
       "      ..\n",
       "210    1\n",
       "211    1\n",
       "212    1\n",
       "213    1\n",
       "214    0\n",
       "Name: status, Length: 215, dtype: int32"
      ]
     },
     "execution_count": 70,
     "metadata": {},
     "output_type": "execute_result"
    }
   ],
   "source": [
    "y"
   ]
  },
  {
   "attachments": {},
   "cell_type": "markdown",
   "metadata": {},
   "source": [
    "### *Splitting*"
   ]
  },
  {
   "cell_type": "code",
   "execution_count": 81,
   "metadata": {},
   "outputs": [],
   "source": [
    "X_train, X_test, y_train, y_test = train_test_split(X, y, random_state= 45)"
   ]
  },
  {
   "cell_type": "code",
   "execution_count": 84,
   "metadata": {},
   "outputs": [
    {
     "data": {
      "text/html": [
       "<div>\n",
       "<style scoped>\n",
       "    .dataframe tbody tr th:only-of-type {\n",
       "        vertical-align: middle;\n",
       "    }\n",
       "\n",
       "    .dataframe tbody tr th {\n",
       "        vertical-align: top;\n",
       "    }\n",
       "\n",
       "    .dataframe thead th {\n",
       "        text-align: right;\n",
       "    }\n",
       "</style>\n",
       "<table border=\"1\" class=\"dataframe\">\n",
       "  <thead>\n",
       "    <tr style=\"text-align: right;\">\n",
       "      <th></th>\n",
       "      <th>gender</th>\n",
       "      <th>ssc_percentage</th>\n",
       "      <th>ssc_board</th>\n",
       "      <th>hsc_percentage</th>\n",
       "      <th>hsc_board</th>\n",
       "      <th>hsc_subject</th>\n",
       "      <th>degree_percentage</th>\n",
       "      <th>undergrad_degree</th>\n",
       "      <th>work_experience</th>\n",
       "      <th>emp_test_percentage</th>\n",
       "      <th>specialisation</th>\n",
       "      <th>mba_percent</th>\n",
       "    </tr>\n",
       "  </thead>\n",
       "  <tbody>\n",
       "    <tr>\n",
       "      <th>gender</th>\n",
       "      <td>1.000000</td>\n",
       "      <td>-0.068969</td>\n",
       "      <td>0.019429</td>\n",
       "      <td>-0.021334</td>\n",
       "      <td>0.065945</td>\n",
       "      <td>0.071827</td>\n",
       "      <td>-0.173217</td>\n",
       "      <td>0.061345</td>\n",
       "      <td>0.085153</td>\n",
       "      <td>0.084294</td>\n",
       "      <td>-0.106160</td>\n",
       "      <td>-0.300531</td>\n",
       "    </tr>\n",
       "    <tr>\n",
       "      <th>ssc_percentage</th>\n",
       "      <td>-0.068969</td>\n",
       "      <td>1.000000</td>\n",
       "      <td>0.116194</td>\n",
       "      <td>0.511472</td>\n",
       "      <td>0.066996</td>\n",
       "      <td>0.236364</td>\n",
       "      <td>0.538404</td>\n",
       "      <td>0.205896</td>\n",
       "      <td>0.175675</td>\n",
       "      <td>0.261993</td>\n",
       "      <td>-0.172536</td>\n",
       "      <td>0.388478</td>\n",
       "    </tr>\n",
       "    <tr>\n",
       "      <th>ssc_board</th>\n",
       "      <td>0.019429</td>\n",
       "      <td>0.116194</td>\n",
       "      <td>1.000000</td>\n",
       "      <td>-0.137013</td>\n",
       "      <td>0.605883</td>\n",
       "      <td>0.050919</td>\n",
       "      <td>0.038070</td>\n",
       "      <td>0.100863</td>\n",
       "      <td>-0.040744</td>\n",
       "      <td>-0.018991</td>\n",
       "      <td>-0.051565</td>\n",
       "      <td>0.083120</td>\n",
       "    </tr>\n",
       "    <tr>\n",
       "      <th>hsc_percentage</th>\n",
       "      <td>-0.021334</td>\n",
       "      <td>0.511472</td>\n",
       "      <td>-0.137013</td>\n",
       "      <td>1.000000</td>\n",
       "      <td>-0.019548</td>\n",
       "      <td>-0.164091</td>\n",
       "      <td>0.434206</td>\n",
       "      <td>-0.086450</td>\n",
       "      <td>0.141025</td>\n",
       "      <td>0.245113</td>\n",
       "      <td>-0.241630</td>\n",
       "      <td>0.354823</td>\n",
       "    </tr>\n",
       "    <tr>\n",
       "      <th>hsc_board</th>\n",
       "      <td>0.065945</td>\n",
       "      <td>0.066996</td>\n",
       "      <td>0.605883</td>\n",
       "      <td>-0.019548</td>\n",
       "      <td>1.000000</td>\n",
       "      <td>0.152227</td>\n",
       "      <td>0.067229</td>\n",
       "      <td>0.057960</td>\n",
       "      <td>0.038357</td>\n",
       "      <td>0.039108</td>\n",
       "      <td>0.002232</td>\n",
       "      <td>0.090201</td>\n",
       "    </tr>\n",
       "    <tr>\n",
       "      <th>hsc_subject</th>\n",
       "      <td>0.071827</td>\n",
       "      <td>0.236364</td>\n",
       "      <td>0.050919</td>\n",
       "      <td>-0.164091</td>\n",
       "      <td>0.152227</td>\n",
       "      <td>1.000000</td>\n",
       "      <td>0.137276</td>\n",
       "      <td>0.596300</td>\n",
       "      <td>0.007856</td>\n",
       "      <td>0.075643</td>\n",
       "      <td>0.172107</td>\n",
       "      <td>0.039345</td>\n",
       "    </tr>\n",
       "    <tr>\n",
       "      <th>degree_percentage</th>\n",
       "      <td>-0.173217</td>\n",
       "      <td>0.538404</td>\n",
       "      <td>0.038070</td>\n",
       "      <td>0.434206</td>\n",
       "      <td>0.067229</td>\n",
       "      <td>0.137276</td>\n",
       "      <td>1.000000</td>\n",
       "      <td>0.079317</td>\n",
       "      <td>0.122648</td>\n",
       "      <td>0.224470</td>\n",
       "      <td>-0.218286</td>\n",
       "      <td>0.402364</td>\n",
       "    </tr>\n",
       "    <tr>\n",
       "      <th>undergrad_degree</th>\n",
       "      <td>0.061345</td>\n",
       "      <td>0.205896</td>\n",
       "      <td>0.100863</td>\n",
       "      <td>-0.086450</td>\n",
       "      <td>0.057960</td>\n",
       "      <td>0.596300</td>\n",
       "      <td>0.079317</td>\n",
       "      <td>1.000000</td>\n",
       "      <td>0.105816</td>\n",
       "      <td>0.011509</td>\n",
       "      <td>0.084361</td>\n",
       "      <td>0.116666</td>\n",
       "    </tr>\n",
       "    <tr>\n",
       "      <th>work_experience</th>\n",
       "      <td>0.085153</td>\n",
       "      <td>0.175675</td>\n",
       "      <td>-0.040744</td>\n",
       "      <td>0.141025</td>\n",
       "      <td>0.038357</td>\n",
       "      <td>0.007856</td>\n",
       "      <td>0.122648</td>\n",
       "      <td>0.105816</td>\n",
       "      <td>1.000000</td>\n",
       "      <td>0.056735</td>\n",
       "      <td>-0.191174</td>\n",
       "      <td>0.168811</td>\n",
       "    </tr>\n",
       "    <tr>\n",
       "      <th>emp_test_percentage</th>\n",
       "      <td>0.084294</td>\n",
       "      <td>0.261993</td>\n",
       "      <td>-0.018991</td>\n",
       "      <td>0.245113</td>\n",
       "      <td>0.039108</td>\n",
       "      <td>0.075643</td>\n",
       "      <td>0.224470</td>\n",
       "      <td>0.011509</td>\n",
       "      <td>0.056735</td>\n",
       "      <td>1.000000</td>\n",
       "      <td>-0.236315</td>\n",
       "      <td>0.218055</td>\n",
       "    </tr>\n",
       "    <tr>\n",
       "      <th>specialisation</th>\n",
       "      <td>-0.106160</td>\n",
       "      <td>-0.172536</td>\n",
       "      <td>-0.051565</td>\n",
       "      <td>-0.241630</td>\n",
       "      <td>0.002232</td>\n",
       "      <td>0.172107</td>\n",
       "      <td>-0.218286</td>\n",
       "      <td>0.084361</td>\n",
       "      <td>-0.191174</td>\n",
       "      <td>-0.236315</td>\n",
       "      <td>1.000000</td>\n",
       "      <td>-0.105728</td>\n",
       "    </tr>\n",
       "    <tr>\n",
       "      <th>mba_percent</th>\n",
       "      <td>-0.300531</td>\n",
       "      <td>0.388478</td>\n",
       "      <td>0.083120</td>\n",
       "      <td>0.354823</td>\n",
       "      <td>0.090201</td>\n",
       "      <td>0.039345</td>\n",
       "      <td>0.402364</td>\n",
       "      <td>0.116666</td>\n",
       "      <td>0.168811</td>\n",
       "      <td>0.218055</td>\n",
       "      <td>-0.105728</td>\n",
       "      <td>1.000000</td>\n",
       "    </tr>\n",
       "  </tbody>\n",
       "</table>\n",
       "</div>"
      ],
      "text/plain": [
       "                       gender  ssc_percentage  ssc_board  hsc_percentage  \\\n",
       "gender               1.000000       -0.068969   0.019429       -0.021334   \n",
       "ssc_percentage      -0.068969        1.000000   0.116194        0.511472   \n",
       "ssc_board            0.019429        0.116194   1.000000       -0.137013   \n",
       "hsc_percentage      -0.021334        0.511472  -0.137013        1.000000   \n",
       "hsc_board            0.065945        0.066996   0.605883       -0.019548   \n",
       "hsc_subject          0.071827        0.236364   0.050919       -0.164091   \n",
       "degree_percentage   -0.173217        0.538404   0.038070        0.434206   \n",
       "undergrad_degree     0.061345        0.205896   0.100863       -0.086450   \n",
       "work_experience      0.085153        0.175675  -0.040744        0.141025   \n",
       "emp_test_percentage  0.084294        0.261993  -0.018991        0.245113   \n",
       "specialisation      -0.106160       -0.172536  -0.051565       -0.241630   \n",
       "mba_percent         -0.300531        0.388478   0.083120        0.354823   \n",
       "\n",
       "                     hsc_board  hsc_subject  degree_percentage  \\\n",
       "gender                0.065945     0.071827          -0.173217   \n",
       "ssc_percentage        0.066996     0.236364           0.538404   \n",
       "ssc_board             0.605883     0.050919           0.038070   \n",
       "hsc_percentage       -0.019548    -0.164091           0.434206   \n",
       "hsc_board             1.000000     0.152227           0.067229   \n",
       "hsc_subject           0.152227     1.000000           0.137276   \n",
       "degree_percentage     0.067229     0.137276           1.000000   \n",
       "undergrad_degree      0.057960     0.596300           0.079317   \n",
       "work_experience       0.038357     0.007856           0.122648   \n",
       "emp_test_percentage   0.039108     0.075643           0.224470   \n",
       "specialisation        0.002232     0.172107          -0.218286   \n",
       "mba_percent           0.090201     0.039345           0.402364   \n",
       "\n",
       "                     undergrad_degree  work_experience  emp_test_percentage  \\\n",
       "gender                       0.061345         0.085153             0.084294   \n",
       "ssc_percentage               0.205896         0.175675             0.261993   \n",
       "ssc_board                    0.100863        -0.040744            -0.018991   \n",
       "hsc_percentage              -0.086450         0.141025             0.245113   \n",
       "hsc_board                    0.057960         0.038357             0.039108   \n",
       "hsc_subject                  0.596300         0.007856             0.075643   \n",
       "degree_percentage            0.079317         0.122648             0.224470   \n",
       "undergrad_degree             1.000000         0.105816             0.011509   \n",
       "work_experience              0.105816         1.000000             0.056735   \n",
       "emp_test_percentage          0.011509         0.056735             1.000000   \n",
       "specialisation               0.084361        -0.191174            -0.236315   \n",
       "mba_percent                  0.116666         0.168811             0.218055   \n",
       "\n",
       "                     specialisation  mba_percent  \n",
       "gender                    -0.106160    -0.300531  \n",
       "ssc_percentage            -0.172536     0.388478  \n",
       "ssc_board                 -0.051565     0.083120  \n",
       "hsc_percentage            -0.241630     0.354823  \n",
       "hsc_board                  0.002232     0.090201  \n",
       "hsc_subject                0.172107     0.039345  \n",
       "degree_percentage         -0.218286     0.402364  \n",
       "undergrad_degree           0.084361     0.116666  \n",
       "work_experience           -0.191174     0.168811  \n",
       "emp_test_percentage       -0.236315     0.218055  \n",
       "specialisation             1.000000    -0.105728  \n",
       "mba_percent               -0.105728     1.000000  "
      ]
     },
     "execution_count": 84,
     "metadata": {},
     "output_type": "execute_result"
    }
   ],
   "source": [
    "X.corr()"
   ]
  },
  {
   "cell_type": "code",
   "execution_count": 85,
   "metadata": {},
   "outputs": [
    {
     "data": {
      "text/plain": [
       "<AxesSubplot:>"
      ]
     },
     "execution_count": 85,
     "metadata": {},
     "output_type": "execute_result"
    },
    {
     "data": {
      "image/png": "[encoded data removed]",
      "text/plain": [
       "<Figure size 1200x800 with 2 Axes>"
      ]
     },
     "metadata": {},
     "output_type": "display_data"
    }
   ],
   "source": [
    "plt.figure(figsize=(12,8))\n",
    "\n",
    "sns.heatmap(X.corr(), cmap='Blues', annot =True, annot_kws={'fontsize':16, 'fontweight':'bold'})\n",
    "plt.show()"
   ]
  },
  {
   "attachments": {},
   "cell_type": "markdown",
   "metadata": {},
   "source": [
    "#### USING A VARYING THRESHOLD"
   ]
  },
  {
   "cell_type": "code",
   "execution_count": 86,
   "metadata": {},
   "outputs": [
    {
     "data": {
      "text/plain": [
       "{'degree_percentage', 'hsc_board', 'hsc_percentage', 'undergrad_degree'}"
      ]
     },
     "execution_count": 86,
     "metadata": {},
     "output_type": "execute_result"
    }
   ],
   "source": [
    "threshold = 0.5\n",
    "\n",
    "def correlation(dataset, threshold):\n",
    "    column_correlation = set()\n",
    "    correlation_matrix = dataset.corr()\n",
    "    for i in range(len(correlation_matrix.columns)):\n",
    "        for j in range(i):\n",
    "            if abs(correlation_matrix.iloc[i,j]) > threshold:\n",
    "                column_name = correlation_matrix.columns[i]\n",
    "                column_correlation.add(column_name)\n",
    "    return column_correlation\n",
    "\n",
    "\n",
    "correlation(X, threshold)\n",
    "\n"
   ]
  },
  {
   "cell_type": "code",
   "execution_count": 87,
   "metadata": {},
   "outputs": [
    {
     "data": {
      "text/html": [
       "<div>\n",
       "<style scoped>\n",
       "    .dataframe tbody tr th:only-of-type {\n",
       "        vertical-align: middle;\n",
       "    }\n",
       "\n",
       "    .dataframe tbody tr th {\n",
       "        vertical-align: top;\n",
       "    }\n",
       "\n",
       "    .dataframe thead th {\n",
       "        text-align: right;\n",
       "    }\n",
       "</style>\n",
       "<table border=\"1\" class=\"dataframe\">\n",
       "  <thead>\n",
       "    <tr style=\"text-align: right;\">\n",
       "      <th></th>\n",
       "      <th>gender</th>\n",
       "      <th>ssc_percentage</th>\n",
       "      <th>ssc_board</th>\n",
       "      <th>hsc_percentage</th>\n",
       "      <th>hsc_board</th>\n",
       "      <th>hsc_subject</th>\n",
       "      <th>degree_percentage</th>\n",
       "      <th>undergrad_degree</th>\n",
       "      <th>work_experience</th>\n",
       "      <th>emp_test_percentage</th>\n",
       "      <th>specialisation</th>\n",
       "      <th>mba_percent</th>\n",
       "      <th>status</th>\n",
       "    </tr>\n",
       "  </thead>\n",
       "  <tbody>\n",
       "    <tr>\n",
       "      <th>0</th>\n",
       "      <td>M</td>\n",
       "      <td>67.00</td>\n",
       "      <td>Others</td>\n",
       "      <td>91.00</td>\n",
       "      <td>Others</td>\n",
       "      <td>Commerce</td>\n",
       "      <td>58.00</td>\n",
       "      <td>Sci&amp;Tech</td>\n",
       "      <td>No</td>\n",
       "      <td>55.0</td>\n",
       "      <td>Mkt&amp;HR</td>\n",
       "      <td>58.80</td>\n",
       "      <td>Placed</td>\n",
       "    </tr>\n",
       "    <tr>\n",
       "      <th>1</th>\n",
       "      <td>M</td>\n",
       "      <td>79.33</td>\n",
       "      <td>Central</td>\n",
       "      <td>78.33</td>\n",
       "      <td>Others</td>\n",
       "      <td>Science</td>\n",
       "      <td>77.48</td>\n",
       "      <td>Sci&amp;Tech</td>\n",
       "      <td>Yes</td>\n",
       "      <td>86.5</td>\n",
       "      <td>Mkt&amp;Fin</td>\n",
       "      <td>66.28</td>\n",
       "      <td>Placed</td>\n",
       "    </tr>\n",
       "    <tr>\n",
       "      <th>2</th>\n",
       "      <td>M</td>\n",
       "      <td>65.00</td>\n",
       "      <td>Central</td>\n",
       "      <td>68.00</td>\n",
       "      <td>Central</td>\n",
       "      <td>Arts</td>\n",
       "      <td>64.00</td>\n",
       "      <td>Comm&amp;Mgmt</td>\n",
       "      <td>No</td>\n",
       "      <td>75.0</td>\n",
       "      <td>Mkt&amp;Fin</td>\n",
       "      <td>57.80</td>\n",
       "      <td>Placed</td>\n",
       "    </tr>\n",
       "    <tr>\n",
       "      <th>3</th>\n",
       "      <td>M</td>\n",
       "      <td>56.00</td>\n",
       "      <td>Central</td>\n",
       "      <td>52.00</td>\n",
       "      <td>Central</td>\n",
       "      <td>Science</td>\n",
       "      <td>52.00</td>\n",
       "      <td>Sci&amp;Tech</td>\n",
       "      <td>No</td>\n",
       "      <td>66.0</td>\n",
       "      <td>Mkt&amp;HR</td>\n",
       "      <td>59.43</td>\n",
       "      <td>Not Placed</td>\n",
       "    </tr>\n",
       "    <tr>\n",
       "      <th>4</th>\n",
       "      <td>M</td>\n",
       "      <td>85.80</td>\n",
       "      <td>Central</td>\n",
       "      <td>73.60</td>\n",
       "      <td>Central</td>\n",
       "      <td>Commerce</td>\n",
       "      <td>73.30</td>\n",
       "      <td>Comm&amp;Mgmt</td>\n",
       "      <td>No</td>\n",
       "      <td>96.8</td>\n",
       "      <td>Mkt&amp;Fin</td>\n",
       "      <td>55.50</td>\n",
       "      <td>Placed</td>\n",
       "    </tr>\n",
       "  </tbody>\n",
       "</table>\n",
       "</div>"
      ],
      "text/plain": [
       "  gender  ssc_percentage ssc_board  hsc_percentage hsc_board hsc_subject  \\\n",
       "0      M           67.00    Others           91.00    Others    Commerce   \n",
       "1      M           79.33   Central           78.33    Others     Science   \n",
       "2      M           65.00   Central           68.00   Central        Arts   \n",
       "3      M           56.00   Central           52.00   Central     Science   \n",
       "4      M           85.80   Central           73.60   Central    Commerce   \n",
       "\n",
       "   degree_percentage undergrad_degree work_experience  emp_test_percentage  \\\n",
       "0              58.00         Sci&Tech              No                 55.0   \n",
       "1              77.48         Sci&Tech             Yes                 86.5   \n",
       "2              64.00        Comm&Mgmt              No                 75.0   \n",
       "3              52.00         Sci&Tech              No                 66.0   \n",
       "4              73.30        Comm&Mgmt              No                 96.8   \n",
       "\n",
       "  specialisation  mba_percent      status  \n",
       "0         Mkt&HR        58.80      Placed  \n",
       "1        Mkt&Fin        66.28      Placed  \n",
       "2        Mkt&Fin        57.80      Placed  \n",
       "3         Mkt&HR        59.43  Not Placed  \n",
       "4        Mkt&Fin        55.50      Placed  "
      ]
     },
     "execution_count": 87,
     "metadata": {},
     "output_type": "execute_result"
    }
   ],
   "source": [
    "df.head()"
   ]
  },
  {
   "cell_type": "code",
   "execution_count": null,
   "metadata": {},
   "outputs": [],
   "source": []
  },
  {
   "attachments": {},
   "cell_type": "markdown",
   "metadata": {},
   "source": [
    "### **In relatable term for Nigerians (cause i am proudly one),**\n",
    "\n",
    "##### 10th grade class: this would typically correspond to the second year of senior secondary education (SS2), when students are around 16-17 years old. ---- \n",
    "\n",
    "##### 12th grade class: This would correspond to the final year of senior secondary education (SS3), when students are around 17-18 years old. At the end of this year, students take the SSSE, which is a high-stakes examination that can determine their eligibility for higher education or employment opportunities. ---- This relates to the **HSC_PERCENTAGE**"
   ]
  },
  {
   "attachments": {},
   "cell_type": "markdown",
   "metadata": {},
   "source": [
    "#### **So we have:**\n",
    "##### 1. HighSchool Percentage\n",
    "##### 2. HSC board\n",
    "##### 3. Undergrad degree -- what faculty\n",
    "##### 4. Degree Percetage"
   ]
  },
  {
   "cell_type": "code",
   "execution_count": 92,
   "metadata": {},
   "outputs": [
    {
     "data": {
      "text/plain": [
       "1    148\n",
       "0     67\n",
       "Name: status, dtype: int64"
      ]
     },
     "execution_count": 92,
     "metadata": {},
     "output_type": "execute_result"
    }
   ],
   "source": []
  },
  {
   "attachments": {},
   "cell_type": "markdown",
   "metadata": {},
   "source": [
    "## Logistic Regression"
   ]
  },
  {
   "cell_type": "code",
   "execution_count": 90,
   "metadata": {},
   "outputs": [
    {
     "data": {
      "text/plain": [
       "LogisticRegression(random_state=0, solver='liblinear')"
      ]
     },
     "execution_count": 90,
     "metadata": {},
     "output_type": "execute_result"
    }
   ],
   "source": [
    "from sklearn.linear_model import LogisticRegression\n",
    "\n",
    "clf = LogisticRegression(random_state=0, solver= 'liblinear')\n",
    "clf.fit(X_train, y_train)\n"
   ]
  },
  {
   "cell_type": "code",
   "execution_count": 97,
   "metadata": {},
   "outputs": [],
   "source": [
    "clf.score(X_test, y_test)\n",
    "y_pred = clf.predict(X_test)"
   ]
  },
  {
   "cell_type": "code",
   "execution_count": 94,
   "metadata": {},
   "outputs": [],
   "source": [
    "from sklearn.metrics import classification_report"
   ]
  },
  {
   "cell_type": "code",
   "execution_count": 99,
   "metadata": {},
   "outputs": [
    {
     "name": "stdout",
     "output_type": "stream",
     "text": [
      "              precision    recall  f1-score   support\n",
      "\n",
      "           0       0.71      0.77      0.74        13\n",
      "           1       0.93      0.90      0.91        41\n",
      "\n",
      "    accuracy                           0.87        54\n",
      "   macro avg       0.82      0.84      0.83        54\n",
      "weighted avg       0.87      0.87      0.87        54\n",
      "\n"
     ]
    }
   ],
   "source": [
    "print(classification_report(y_test, y_pred))"
   ]
  },
  {
   "cell_type": "code",
   "execution_count": null,
   "metadata": {},
   "outputs": [],
   "source": []
  },
  {
   "cell_type": "code",
   "execution_count": null,
   "metadata": {},
   "outputs": [],
   "source": []
  },
  {
   "attachments": {},
   "cell_type": "markdown",
   "metadata": {},
   "source": [
    "# FEATURE SELECTION MODEL"
   ]
  },
  {
   "cell_type": "code",
   "execution_count": 102,
   "metadata": {},
   "outputs": [],
   "source": [
    "featured_df = df[['degree_percentage', 'hsc_board', 'hsc_percentage', 'undergrad_degree']]"
   ]
  },
  {
   "cell_type": "code",
   "execution_count": 103,
   "metadata": {},
   "outputs": [
    {
     "data": {
      "text/html": [
       "<div>\n",
       "<style scoped>\n",
       "    .dataframe tbody tr th:only-of-type {\n",
       "        vertical-align: middle;\n",
       "    }\n",
       "\n",
       "    .dataframe tbody tr th {\n",
       "        vertical-align: top;\n",
       "    }\n",
       "\n",
       "    .dataframe thead th {\n",
       "        text-align: right;\n",
       "    }\n",
       "</style>\n",
       "<table border=\"1\" class=\"dataframe\">\n",
       "  <thead>\n",
       "    <tr style=\"text-align: right;\">\n",
       "      <th></th>\n",
       "      <th>degree_percentage</th>\n",
       "      <th>hsc_board</th>\n",
       "      <th>hsc_percentage</th>\n",
       "      <th>undergrad_degree</th>\n",
       "    </tr>\n",
       "  </thead>\n",
       "  <tbody>\n",
       "    <tr>\n",
       "      <th>0</th>\n",
       "      <td>58.00</td>\n",
       "      <td>Others</td>\n",
       "      <td>91.00</td>\n",
       "      <td>Sci&amp;Tech</td>\n",
       "    </tr>\n",
       "    <tr>\n",
       "      <th>1</th>\n",
       "      <td>77.48</td>\n",
       "      <td>Others</td>\n",
       "      <td>78.33</td>\n",
       "      <td>Sci&amp;Tech</td>\n",
       "    </tr>\n",
       "    <tr>\n",
       "      <th>2</th>\n",
       "      <td>64.00</td>\n",
       "      <td>Central</td>\n",
       "      <td>68.00</td>\n",
       "      <td>Comm&amp;Mgmt</td>\n",
       "    </tr>\n",
       "    <tr>\n",
       "      <th>3</th>\n",
       "      <td>52.00</td>\n",
       "      <td>Central</td>\n",
       "      <td>52.00</td>\n",
       "      <td>Sci&amp;Tech</td>\n",
       "    </tr>\n",
       "    <tr>\n",
       "      <th>4</th>\n",
       "      <td>73.30</td>\n",
       "      <td>Central</td>\n",
       "      <td>73.60</td>\n",
       "      <td>Comm&amp;Mgmt</td>\n",
       "    </tr>\n",
       "  </tbody>\n",
       "</table>\n",
       "</div>"
      ],
      "text/plain": [
       "   degree_percentage hsc_board  hsc_percentage undergrad_degree\n",
       "0              58.00    Others           91.00         Sci&Tech\n",
       "1              77.48    Others           78.33         Sci&Tech\n",
       "2              64.00   Central           68.00        Comm&Mgmt\n",
       "3              52.00   Central           52.00         Sci&Tech\n",
       "4              73.30   Central           73.60        Comm&Mgmt"
      ]
     },
     "execution_count": 103,
     "metadata": {},
     "output_type": "execute_result"
    }
   ],
   "source": [
    "featured_df.head()"
   ]
  },
  {
   "cell_type": "code",
   "execution_count": null,
   "metadata": {},
   "outputs": [],
   "source": []
  },
  {
   "cell_type": "code",
   "execution_count": 105,
   "metadata": {},
   "outputs": [
    {
     "name": "stderr",
     "output_type": "stream",
     "text": [
      "C:\\Users\\ilesannmi\\AppData\\Local\\Temp\\ipykernel_8940\\764549340.py:4: SettingWithCopyWarning: \n",
      "A value is trying to be set on a copy of a slice from a DataFrame.\n",
      "Try using .loc[row_indexer,col_indexer] = value instead\n",
      "\n",
      "See the caveats in the documentation: https://pandas.pydata.org/pandas-docs/stable/user_guide/indexing.html#returning-a-view-versus-a-copy\n",
      "  featured_df[col] = le.fit_transform(featured_df[col])\n"
     ]
    }
   ],
   "source": [
    "\n",
    "\n",
    "for col in featured_df.columns:\n",
    "    if featured_df[col].dtype == 'object':\n",
    "        le = LabelEncoder()\n",
    "        featured_df[col] = le.fit_transform(featured_df[col])\n"
   ]
  },
  {
   "cell_type": "code",
   "execution_count": 106,
   "metadata": {},
   "outputs": [
    {
     "data": {
      "text/html": [
       "<div>\n",
       "<style scoped>\n",
       "    .dataframe tbody tr th:only-of-type {\n",
       "        vertical-align: middle;\n",
       "    }\n",
       "\n",
       "    .dataframe tbody tr th {\n",
       "        vertical-align: top;\n",
       "    }\n",
       "\n",
       "    .dataframe thead th {\n",
       "        text-align: right;\n",
       "    }\n",
       "</style>\n",
       "<table border=\"1\" class=\"dataframe\">\n",
       "  <thead>\n",
       "    <tr style=\"text-align: right;\">\n",
       "      <th></th>\n",
       "      <th>degree_percentage</th>\n",
       "      <th>hsc_board</th>\n",
       "      <th>hsc_percentage</th>\n",
       "      <th>undergrad_degree</th>\n",
       "    </tr>\n",
       "  </thead>\n",
       "  <tbody>\n",
       "    <tr>\n",
       "      <th>0</th>\n",
       "      <td>58.00</td>\n",
       "      <td>1</td>\n",
       "      <td>91.00</td>\n",
       "      <td>2</td>\n",
       "    </tr>\n",
       "    <tr>\n",
       "      <th>1</th>\n",
       "      <td>77.48</td>\n",
       "      <td>1</td>\n",
       "      <td>78.33</td>\n",
       "      <td>2</td>\n",
       "    </tr>\n",
       "    <tr>\n",
       "      <th>2</th>\n",
       "      <td>64.00</td>\n",
       "      <td>0</td>\n",
       "      <td>68.00</td>\n",
       "      <td>0</td>\n",
       "    </tr>\n",
       "    <tr>\n",
       "      <th>3</th>\n",
       "      <td>52.00</td>\n",
       "      <td>0</td>\n",
       "      <td>52.00</td>\n",
       "      <td>2</td>\n",
       "    </tr>\n",
       "    <tr>\n",
       "      <th>4</th>\n",
       "      <td>73.30</td>\n",
       "      <td>0</td>\n",
       "      <td>73.60</td>\n",
       "      <td>0</td>\n",
       "    </tr>\n",
       "  </tbody>\n",
       "</table>\n",
       "</div>"
      ],
      "text/plain": [
       "   degree_percentage  hsc_board  hsc_percentage  undergrad_degree\n",
       "0              58.00          1           91.00                 2\n",
       "1              77.48          1           78.33                 2\n",
       "2              64.00          0           68.00                 0\n",
       "3              52.00          0           52.00                 2\n",
       "4              73.30          0           73.60                 0"
      ]
     },
     "execution_count": 106,
     "metadata": {},
     "output_type": "execute_result"
    }
   ],
   "source": [
    "featured_df.head()"
   ]
  },
  {
   "cell_type": "code",
   "execution_count": 107,
   "metadata": {},
   "outputs": [],
   "source": [
    "from sklearn.preprocessing import MinMaxScaler\n",
    "\n",
    "scaler = MinMaxScaler()\n",
    "featured_df = scaler.fit_transform(featured_df)"
   ]
  },
  {
   "cell_type": "code",
   "execution_count": 108,
   "metadata": {},
   "outputs": [
    {
     "data": {
      "text/plain": [
       "array([[0.19512195, 1.        , 0.88962109, 1.        ],\n",
       "       [0.6702439 , 1.        , 0.68088962, 1.        ],\n",
       "       [0.34146341, 0.        , 0.5107084 , 0.        ],\n",
       "       [0.04878049, 0.        , 0.24711697, 1.        ],\n",
       "       [0.56829268, 0.        , 0.6029654 , 0.        ],\n",
       "       [0.42073171, 1.        , 0.21087315, 1.        ],\n",
       "       [0.70731707, 1.        , 0.20098847, 0.        ],\n",
       "       [0.3902439 , 0.        , 0.44481054, 1.        ],\n",
       "       [0.53658537, 0.        , 0.69192751, 0.        ],\n",
       "       [0.26829268, 0.        , 0.54365733, 0.        ],\n",
       "       [0.24390244, 0.        , 0.39538715, 0.        ],\n",
       "       [0.6902439 , 0.        , 0.51729819, 0.        ],\n",
       "       [0.36585366, 1.        , 0.29654036, 0.        ],\n",
       "       [0.2195122 , 0.        , 0.82372323, 0.        ],\n",
       "       [0.        , 0.        , 0.16474465, 0.        ],\n",
       "       [0.46341463, 0.        , 0.62602965, 0.        ],\n",
       "       [0.3804878 , 0.        , 0.48105437, 0.        ],\n",
       "       [0.34146341, 0.        , 0.49423394, 0.        ],\n",
       "       [0.34146341, 0.        , 0.47775947, 0.        ],\n",
       "       [0.48780488, 1.        , 0.49423394, 0.        ],\n",
       "       [0.3902439 , 1.        , 0.46128501, 0.        ],\n",
       "       [0.85365854, 1.        , 0.64250412, 0.        ],\n",
       "       [0.54219512, 1.        , 0.39209226, 1.        ],\n",
       "       [0.3595122 , 1.        , 0.37891269, 1.        ],\n",
       "       [0.70390244, 1.        , 1.        , 1.        ],\n",
       "       [0.00487805, 0.        , 0.28995058, 0.        ],\n",
       "       [0.3902439 , 1.        , 0.69192751, 0.        ],\n",
       "       [0.3902439 , 1.        , 0.49423394, 0.        ],\n",
       "       [0.42682927, 1.        , 0.65074135, 0.        ],\n",
       "       [0.19512195, 0.        , 0.49423394, 0.        ],\n",
       "       [0.56097561, 0.        , 0.60131796, 0.        ],\n",
       "       [0.36585366, 0.        , 0.26359143, 1.        ],\n",
       "       [0.4       , 0.        , 0.72487644, 0.        ],\n",
       "       [0.75609756, 1.        , 0.46128501, 0.        ],\n",
       "       [0.04878049, 1.        , 0.2306425 , 0.5       ],\n",
       "       [0.53658537, 0.        , 0.67545305, 0.        ],\n",
       "       [0.17073171, 0.        , 0.11532125, 0.        ],\n",
       "       [0.3804878 , 0.        , 0.64250412, 1.        ],\n",
       "       [0.3902439 , 1.        , 0.34596376, 0.        ],\n",
       "       [0.34146341, 1.        , 0.5107084 , 1.        ],\n",
       "       [0.73170732, 1.        , 0.65897858, 0.        ],\n",
       "       [0.36585366, 1.        , 0.43097199, 0.        ],\n",
       "       [0.36585366, 0.        , 0.03294893, 0.5       ],\n",
       "       [0.43902439, 1.        , 0.82372323, 0.        ],\n",
       "       [0.75609756, 1.        , 0.59308072, 0.        ],\n",
       "       [0.53658537, 0.        , 0.44481054, 1.        ],\n",
       "       [0.3804878 , 1.        , 0.57627677, 0.        ],\n",
       "       [0.17073171, 0.        , 0.37891269, 0.        ],\n",
       "       [0.43902439, 1.        , 0.41186161, 0.        ],\n",
       "       [0.04878049, 1.        , 0.        , 0.5       ],\n",
       "       [0.44878049, 0.        , 0.59637562, 0.        ],\n",
       "       [0.15121951, 0.        , 0.39736409, 0.        ],\n",
       "       [0.07317073, 1.        , 0.14546952, 0.        ],\n",
       "       [0.53658537, 1.        , 0.54365733, 1.        ],\n",
       "       [0.46341463, 1.        , 0.37891269, 0.        ],\n",
       "       [0.36585366, 1.        , 0.48764415, 0.        ],\n",
       "       [0.27804878, 1.        , 0.56672158, 0.        ],\n",
       "       [0.58536585, 0.        , 0.64250412, 0.        ],\n",
       "       [0.43902439, 1.        , 0.41186161, 0.        ],\n",
       "       [0.53926829, 1.        , 0.4708402 , 1.        ],\n",
       "       [0.53658537, 0.        , 0.54365733, 0.        ],\n",
       "       [0.41195122, 0.        , 0.59967051, 0.        ],\n",
       "       [0.42439024, 1.        , 0.44810544, 1.        ],\n",
       "       [0.34146341, 1.        , 0.54365733, 0.        ],\n",
       "       [0.6097561 , 1.        , 0.59308072, 0.        ],\n",
       "       [0.17073171, 1.        , 0.16474465, 0.        ],\n",
       "       [0.3902439 , 1.        , 0.60955519, 0.        ],\n",
       "       [0.41463415, 1.        , 0.68369028, 0.        ],\n",
       "       [0.55365854, 0.        , 0.16474465, 1.        ],\n",
       "       [0.3902439 , 0.        , 0.59308072, 1.        ],\n",
       "       [0.29268293, 1.        , 0.39538715, 1.        ],\n",
       "       [0.51219512, 1.        , 0.54843493, 0.        ],\n",
       "       [0.68292683, 1.        , 0.49423394, 0.        ],\n",
       "       [0.5297561 , 1.        , 0.77149918, 0.        ],\n",
       "       [0.49268293, 0.        , 0.45799012, 0.        ],\n",
       "       [0.67073171, 1.        , 0.41186161, 0.        ],\n",
       "       [0.53487805, 0.        , 0.55024712, 0.        ],\n",
       "       [0.36585366, 1.        , 0.70840198, 1.        ],\n",
       "       [0.35365854, 1.        , 0.88797364, 1.        ],\n",
       "       [0.3902439 , 0.        , 0.41186161, 1.        ],\n",
       "       [0.46341463, 1.        , 0.41186161, 0.        ],\n",
       "       [0.41463415, 1.        , 0.42833608, 0.        ],\n",
       "       [0.58536585, 0.        , 0.49423394, 0.        ],\n",
       "       [0.43902439, 1.        , 0.69192751, 1.        ],\n",
       "       [0.48780488, 1.        , 0.42833608, 1.        ],\n",
       "       [0.66341463, 1.        , 0.87034596, 0.        ],\n",
       "       [0.34146341, 1.        , 0.42833608, 0.        ],\n",
       "       [0.24390244, 0.        , 0.2306425 , 0.5       ],\n",
       "       [0.56097561, 0.        , 0.41186161, 0.        ],\n",
       "       [0.46341463, 1.        , 0.62602965, 1.        ],\n",
       "       [0.7804878 , 1.        , 0.87314662, 0.        ],\n",
       "       [0.0195122 , 0.        , 0.32948929, 0.        ],\n",
       "       [0.3902439 , 0.        , 0.52718287, 0.        ],\n",
       "       [0.09756098, 0.        , 0.41186161, 0.        ],\n",
       "       [0.34146341, 0.        , 0.41186161, 0.        ],\n",
       "       [0.36585366, 1.        , 0.67545305, 0.        ],\n",
       "       [0.63414634, 0.        , 0.54365733, 0.        ],\n",
       "       [0.26829268, 1.        , 0.42009885, 0.        ],\n",
       "       [0.36585366, 0.        , 0.59308072, 0.        ],\n",
       "       [0.31707317, 1.        , 0.74135091, 1.        ],\n",
       "       [0.19512195, 1.        , 0.32948929, 0.        ],\n",
       "       [0.43902439, 0.        , 0.57660626, 0.        ],\n",
       "       [0.43902439, 1.        , 0.39538715, 0.        ],\n",
       "       [0.56097561, 0.        , 0.67545305, 1.        ],\n",
       "       [0.36585366, 1.        , 0.42833608, 0.        ],\n",
       "       [0.19512195, 1.        , 0.44481054, 1.        ],\n",
       "       [0.09756098, 1.        , 0.21416804, 1.        ],\n",
       "       [0.80487805, 1.        , 0.87314662, 0.        ],\n",
       "       [0.46341463, 0.        , 0.74135091, 0.        ],\n",
       "       [0.36585366, 1.        , 0.42833608, 1.        ],\n",
       "       [0.53658537, 0.        , 0.54365733, 1.        ],\n",
       "       [0.26829268, 1.        , 0.2800659 , 1.        ],\n",
       "       [0.26829268, 1.        , 0.39538715, 0.        ],\n",
       "       [0.41463415, 1.        , 0.69192751, 0.        ],\n",
       "       [0.46341463, 1.        , 0.5107084 , 0.        ],\n",
       "       [0.3902439 , 1.        , 0.42833608, 0.        ],\n",
       "       [0.40487805, 0.        , 0.58978583, 0.        ],\n",
       "       [0.56097561, 1.        , 0.62602965, 1.        ],\n",
       "       [0.68292683, 0.        , 0.70840198, 1.        ],\n",
       "       [0.35609756, 0.        , 0.51729819, 0.        ],\n",
       "       [0.2195122 , 1.        , 0.04942339, 0.        ],\n",
       "       [0.47804878, 1.        , 0.49423394, 1.        ],\n",
       "       [0.47073171, 0.        , 0.49093904, 0.        ],\n",
       "       [0.56097561, 1.        , 0.36243822, 0.        ],\n",
       "       [0.3495122 , 0.        , 0.5601318 , 0.5       ],\n",
       "       [0.56097561, 0.        , 0.59308072, 0.        ],\n",
       "       [0.62195122, 1.        , 0.39538715, 1.        ],\n",
       "       [0.46341463, 1.        , 0.37891269, 0.        ],\n",
       "       [0.67609756, 0.        , 0.59967051, 1.        ],\n",
       "       [0.3902439 , 1.        , 0.86820428, 0.        ],\n",
       "       [0.24390244, 1.        , 0.46128501, 0.        ],\n",
       "       [0.29268293, 1.        , 0.32948929, 0.5       ],\n",
       "       [0.34146341, 1.        , 0.5107084 , 0.        ],\n",
       "       [0.65853659, 1.        , 0.44481054, 0.        ],\n",
       "       [0.53658537, 1.        , 0.90609555, 0.        ],\n",
       "       [0.46341463, 1.        , 0.31301483, 0.        ],\n",
       "       [0.34146341, 0.        , 0.36243822, 0.        ],\n",
       "       [0.53658537, 0.        , 0.42833608, 0.        ],\n",
       "       [0.56097561, 1.        , 0.44481054, 1.        ],\n",
       "       [0.2195122 , 0.        , 0.54365733, 0.        ],\n",
       "       [0.47560976, 1.        , 0.45799012, 0.        ],\n",
       "       [0.24390244, 0.        , 0.44481054, 0.        ],\n",
       "       [0.57146341, 1.        , 0.37891269, 1.        ],\n",
       "       [0.50414634, 1.        , 0.45947282, 0.        ],\n",
       "       [0.26829268, 1.        , 0.21416804, 0.        ],\n",
       "       [0.51829268, 1.        , 0.47215815, 1.        ],\n",
       "       [0.3902439 , 1.        , 0.42833608, 0.        ],\n",
       "       [0.36585366, 0.        , 0.60955519, 0.        ],\n",
       "       [0.14634146, 0.        , 0.80724876, 0.5       ],\n",
       "       [0.12195122, 0.        , 0.34596376, 0.        ],\n",
       "       [0.19512195, 0.        , 0.3568369 , 1.        ],\n",
       "       [0.6097561 , 0.        , 0.46128501, 0.        ],\n",
       "       [0.82926829, 0.        , 0.38714992, 1.        ],\n",
       "       [0.36585366, 1.        , 0.36243822, 1.        ],\n",
       "       [0.24390244, 1.        , 0.42833608, 0.        ],\n",
       "       [0.24146341, 1.        , 0.62042834, 0.        ],\n",
       "       [0.36585366, 0.        , 0.53377265, 1.        ],\n",
       "       [0.26585366, 0.        , 0.42009885, 0.        ],\n",
       "       [0.34146341, 1.        , 0.42833608, 1.        ],\n",
       "       [0.19512195, 1.        , 0.19769357, 0.        ],\n",
       "       [0.36585366, 0.        , 0.60955519, 1.        ],\n",
       "       [0.18292683, 1.        , 0.2306425 , 0.        ],\n",
       "       [0.66463415, 1.        , 0.83360791, 0.        ],\n",
       "       [0.34146341, 1.        , 0.49423394, 1.        ],\n",
       "       [0.32560976, 0.        , 0.58484349, 0.        ],\n",
       "       [0.58536585, 1.        , 0.68088962, 0.        ],\n",
       "       [0.24390244, 1.        , 0.41186161, 0.        ],\n",
       "       [0.41463415, 1.        , 0.41186161, 1.        ],\n",
       "       [0.19512195, 0.        , 0.2306425 , 0.        ],\n",
       "       [0.27463415, 1.        , 0.08500824, 1.        ],\n",
       "       [0.24390244, 1.        , 0.49752883, 0.        ],\n",
       "       [0.53658537, 1.        , 0.70840198, 0.        ],\n",
       "       [0.14634146, 1.        , 0.34596376, 0.        ],\n",
       "       [0.12195122, 1.        , 0.24711697, 1.        ],\n",
       "       [0.34804878, 1.        , 0.22784185, 1.        ],\n",
       "       [0.36585366, 1.        , 0.41186161, 1.        ],\n",
       "       [0.14634146, 1.        , 0.37891269, 0.        ],\n",
       "       [0.70731707, 1.        , 0.98846787, 0.        ],\n",
       "       [0.43902439, 1.        , 0.31301483, 1.        ],\n",
       "       [0.34634146, 0.        , 0.44481054, 1.        ],\n",
       "       [0.31219512, 1.        , 0.56836903, 0.        ],\n",
       "       [0.34658537, 1.        , 0.38434926, 1.        ],\n",
       "       [0.17073171, 1.        , 0.46128501, 0.5       ],\n",
       "       [0.46341463, 0.        , 0.65897858, 0.        ],\n",
       "       [0.23878049, 1.        , 0.42553542, 0.        ],\n",
       "       [0.68292683, 0.        , 0.57660626, 0.5       ],\n",
       "       [0.26829268, 0.        , 0.44481054, 0.        ],\n",
       "       [0.41463415, 0.        , 0.46952224, 1.        ],\n",
       "       [0.10682927, 1.        , 0.16474465, 0.        ],\n",
       "       [0.46829268, 1.        , 0.66886326, 0.        ],\n",
       "       [0.26829268, 0.        , 0.54695222, 0.        ],\n",
       "       [0.53658537, 0.        , 0.39538715, 0.        ],\n",
       "       [0.36097561, 0.        , 0.40197694, 0.        ],\n",
       "       [0.14634146, 0.        , 0.42833608, 0.5       ],\n",
       "       [0.15365854, 1.        , 0.29654036, 0.        ],\n",
       "       [0.53658537, 0.        , 0.64250412, 0.        ],\n",
       "       [0.67073171, 1.        , 0.42833608, 1.        ],\n",
       "       [1.        , 1.        , 0.26359143, 1.        ],\n",
       "       [0.36585366, 0.        , 0.54365733, 0.5       ],\n",
       "       [0.17073171, 1.        , 0.46128501, 0.        ],\n",
       "       [0.36585366, 1.        , 0.37891269, 0.        ],\n",
       "       [0.19512195, 1.        , 0.42833608, 0.        ],\n",
       "       [0.3902439 , 0.        , 0.42833608, 1.        ],\n",
       "       [0.16756098, 1.        , 0.40082372, 0.        ],\n",
       "       [0.56097561, 1.        , 0.59308072, 0.        ],\n",
       "       [0.36585366, 1.        , 0.41186161, 0.        ],\n",
       "       [0.24390244, 0.        , 0.08237232, 0.        ],\n",
       "       [0.26829268, 1.        , 0.67545305, 0.        ],\n",
       "       [0.36585366, 1.        , 0.37891269, 0.        ],\n",
       "       [0.36585366, 0.        , 0.57660626, 0.        ],\n",
       "       [0.67317073, 1.        , 0.74135091, 0.        ],\n",
       "       [0.53658537, 1.        , 0.37891269, 1.        ],\n",
       "       [0.56097561, 1.        , 0.49423394, 0.        ],\n",
       "       [0.19512195, 1.        , 0.47775947, 0.        ],\n",
       "       [0.07317073, 1.        , 0.34596376, 0.        ]])"
      ]
     },
     "execution_count": 108,
     "metadata": {},
     "output_type": "execute_result"
    }
   ],
   "source": [
    "featured_df"
   ]
  },
  {
   "cell_type": "code",
   "execution_count": 120,
   "metadata": {},
   "outputs": [],
   "source": [
    "X_feat = featured_df\n",
    "X_train, X_test, y_train, y_test = train_test_split(X_feat, y, random_state= 45)"
   ]
  },
  {
   "cell_type": "code",
   "execution_count": 121,
   "metadata": {},
   "outputs": [
    {
     "data": {
      "text/plain": [
       "LogisticRegression(random_state=0, solver='liblinear')"
      ]
     },
     "execution_count": 121,
     "metadata": {},
     "output_type": "execute_result"
    }
   ],
   "source": [
    "from sklearn.linear_model import LogisticRegression\n",
    "\n",
    "clf = LogisticRegression(random_state=0, solver= 'liblinear')\n",
    "clf.fit(X_train, y_train)\n"
   ]
  },
  {
   "cell_type": "code",
   "execution_count": 122,
   "metadata": {},
   "outputs": [
    {
     "name": "stdout",
     "output_type": "stream",
     "text": [
      "0.8148148148148148\n"
     ]
    }
   ],
   "source": [
    "print(clf.score(X_test, y_test))\n",
    "y_pred = clf.predict(X_test)"
   ]
  },
  {
   "cell_type": "code",
   "execution_count": 112,
   "metadata": {},
   "outputs": [
    {
     "name": "stdout",
     "output_type": "stream",
     "text": [
      "              precision    recall  f1-score   support\n",
      "\n",
      "           0       0.71      0.38      0.50        13\n",
      "           1       0.83      0.95      0.89        41\n",
      "\n",
      "    accuracy                           0.81        54\n",
      "   macro avg       0.77      0.67      0.69        54\n",
      "weighted avg       0.80      0.81      0.79        54\n",
      "\n"
     ]
    }
   ],
   "source": [
    "print(classification_report(y_test, y_pred))"
   ]
  },
  {
   "cell_type": "code",
   "execution_count": null,
   "metadata": {},
   "outputs": [],
   "source": []
  },
  {
   "attachments": {},
   "cell_type": "markdown",
   "metadata": {},
   "source": [
    "# Overscaling the dataset"
   ]
  },
  {
   "cell_type": "code",
   "execution_count": 124,
   "metadata": {},
   "outputs": [
    {
     "data": {
      "text/html": [
       "<div>\n",
       "<style scoped>\n",
       "    .dataframe tbody tr th:only-of-type {\n",
       "        vertical-align: middle;\n",
       "    }\n",
       "\n",
       "    .dataframe tbody tr th {\n",
       "        vertical-align: top;\n",
       "    }\n",
       "\n",
       "    .dataframe thead th {\n",
       "        text-align: right;\n",
       "    }\n",
       "</style>\n",
       "<table border=\"1\" class=\"dataframe\">\n",
       "  <thead>\n",
       "    <tr style=\"text-align: right;\">\n",
       "      <th></th>\n",
       "      <th>gender</th>\n",
       "      <th>ssc_percentage</th>\n",
       "      <th>ssc_board</th>\n",
       "      <th>hsc_percentage</th>\n",
       "      <th>hsc_board</th>\n",
       "      <th>hsc_subject</th>\n",
       "      <th>degree_percentage</th>\n",
       "      <th>undergrad_degree</th>\n",
       "      <th>work_experience</th>\n",
       "      <th>emp_test_percentage</th>\n",
       "      <th>specialisation</th>\n",
       "      <th>mba_percent</th>\n",
       "      <th>status</th>\n",
       "    </tr>\n",
       "  </thead>\n",
       "  <tbody>\n",
       "    <tr>\n",
       "      <th>0</th>\n",
       "      <td>M</td>\n",
       "      <td>67.00</td>\n",
       "      <td>Others</td>\n",
       "      <td>91.00</td>\n",
       "      <td>Others</td>\n",
       "      <td>Commerce</td>\n",
       "      <td>58.00</td>\n",
       "      <td>Sci&amp;Tech</td>\n",
       "      <td>No</td>\n",
       "      <td>55.0</td>\n",
       "      <td>Mkt&amp;HR</td>\n",
       "      <td>58.80</td>\n",
       "      <td>Placed</td>\n",
       "    </tr>\n",
       "    <tr>\n",
       "      <th>1</th>\n",
       "      <td>M</td>\n",
       "      <td>79.33</td>\n",
       "      <td>Central</td>\n",
       "      <td>78.33</td>\n",
       "      <td>Others</td>\n",
       "      <td>Science</td>\n",
       "      <td>77.48</td>\n",
       "      <td>Sci&amp;Tech</td>\n",
       "      <td>Yes</td>\n",
       "      <td>86.5</td>\n",
       "      <td>Mkt&amp;Fin</td>\n",
       "      <td>66.28</td>\n",
       "      <td>Placed</td>\n",
       "    </tr>\n",
       "    <tr>\n",
       "      <th>2</th>\n",
       "      <td>M</td>\n",
       "      <td>65.00</td>\n",
       "      <td>Central</td>\n",
       "      <td>68.00</td>\n",
       "      <td>Central</td>\n",
       "      <td>Arts</td>\n",
       "      <td>64.00</td>\n",
       "      <td>Comm&amp;Mgmt</td>\n",
       "      <td>No</td>\n",
       "      <td>75.0</td>\n",
       "      <td>Mkt&amp;Fin</td>\n",
       "      <td>57.80</td>\n",
       "      <td>Placed</td>\n",
       "    </tr>\n",
       "    <tr>\n",
       "      <th>3</th>\n",
       "      <td>M</td>\n",
       "      <td>56.00</td>\n",
       "      <td>Central</td>\n",
       "      <td>52.00</td>\n",
       "      <td>Central</td>\n",
       "      <td>Science</td>\n",
       "      <td>52.00</td>\n",
       "      <td>Sci&amp;Tech</td>\n",
       "      <td>No</td>\n",
       "      <td>66.0</td>\n",
       "      <td>Mkt&amp;HR</td>\n",
       "      <td>59.43</td>\n",
       "      <td>Not Placed</td>\n",
       "    </tr>\n",
       "    <tr>\n",
       "      <th>4</th>\n",
       "      <td>M</td>\n",
       "      <td>85.80</td>\n",
       "      <td>Central</td>\n",
       "      <td>73.60</td>\n",
       "      <td>Central</td>\n",
       "      <td>Commerce</td>\n",
       "      <td>73.30</td>\n",
       "      <td>Comm&amp;Mgmt</td>\n",
       "      <td>No</td>\n",
       "      <td>96.8</td>\n",
       "      <td>Mkt&amp;Fin</td>\n",
       "      <td>55.50</td>\n",
       "      <td>Placed</td>\n",
       "    </tr>\n",
       "  </tbody>\n",
       "</table>\n",
       "</div>"
      ],
      "text/plain": [
       "  gender  ssc_percentage ssc_board  hsc_percentage hsc_board hsc_subject  \\\n",
       "0      M           67.00    Others           91.00    Others    Commerce   \n",
       "1      M           79.33   Central           78.33    Others     Science   \n",
       "2      M           65.00   Central           68.00   Central        Arts   \n",
       "3      M           56.00   Central           52.00   Central     Science   \n",
       "4      M           85.80   Central           73.60   Central    Commerce   \n",
       "\n",
       "   degree_percentage undergrad_degree work_experience  emp_test_percentage  \\\n",
       "0              58.00         Sci&Tech              No                 55.0   \n",
       "1              77.48         Sci&Tech             Yes                 86.5   \n",
       "2              64.00        Comm&Mgmt              No                 75.0   \n",
       "3              52.00         Sci&Tech              No                 66.0   \n",
       "4              73.30        Comm&Mgmt              No                 96.8   \n",
       "\n",
       "  specialisation  mba_percent      status  \n",
       "0         Mkt&HR        58.80      Placed  \n",
       "1        Mkt&Fin        66.28      Placed  \n",
       "2        Mkt&Fin        57.80      Placed  \n",
       "3         Mkt&HR        59.43  Not Placed  \n",
       "4        Mkt&Fin        55.50      Placed  "
      ]
     },
     "execution_count": 124,
     "metadata": {},
     "output_type": "execute_result"
    }
   ],
   "source": [
    "df.head()"
   ]
  },
  {
   "cell_type": "code",
   "execution_count": 126,
   "metadata": {},
   "outputs": [
    {
     "data": {
      "text/plain": [
       "(107500, 13)"
      ]
     },
     "execution_count": 126,
     "metadata": {},
     "output_type": "execute_result"
    }
   ],
   "source": [
    "df_overscaled = pd.concat([df] * 500, ignore_index= True)\n",
    "\n",
    "df_overscaled.shape"
   ]
  },
  {
   "cell_type": "code",
   "execution_count": 127,
   "metadata": {},
   "outputs": [
    {
     "data": {
      "text/html": [
       "<div>\n",
       "<style scoped>\n",
       "    .dataframe tbody tr th:only-of-type {\n",
       "        vertical-align: middle;\n",
       "    }\n",
       "\n",
       "    .dataframe tbody tr th {\n",
       "        vertical-align: top;\n",
       "    }\n",
       "\n",
       "    .dataframe thead th {\n",
       "        text-align: right;\n",
       "    }\n",
       "</style>\n",
       "<table border=\"1\" class=\"dataframe\">\n",
       "  <thead>\n",
       "    <tr style=\"text-align: right;\">\n",
       "      <th></th>\n",
       "      <th>gender</th>\n",
       "      <th>ssc_percentage</th>\n",
       "      <th>ssc_board</th>\n",
       "      <th>hsc_percentage</th>\n",
       "      <th>hsc_board</th>\n",
       "      <th>hsc_subject</th>\n",
       "      <th>degree_percentage</th>\n",
       "      <th>undergrad_degree</th>\n",
       "      <th>work_experience</th>\n",
       "      <th>emp_test_percentage</th>\n",
       "      <th>specialisation</th>\n",
       "      <th>mba_percent</th>\n",
       "      <th>status</th>\n",
       "    </tr>\n",
       "  </thead>\n",
       "  <tbody>\n",
       "    <tr>\n",
       "      <th>0</th>\n",
       "      <td>M</td>\n",
       "      <td>67.00</td>\n",
       "      <td>Others</td>\n",
       "      <td>91.00</td>\n",
       "      <td>Others</td>\n",
       "      <td>Commerce</td>\n",
       "      <td>58.00</td>\n",
       "      <td>Sci&amp;Tech</td>\n",
       "      <td>No</td>\n",
       "      <td>55.0</td>\n",
       "      <td>Mkt&amp;HR</td>\n",
       "      <td>58.80</td>\n",
       "      <td>Placed</td>\n",
       "    </tr>\n",
       "    <tr>\n",
       "      <th>1</th>\n",
       "      <td>M</td>\n",
       "      <td>79.33</td>\n",
       "      <td>Central</td>\n",
       "      <td>78.33</td>\n",
       "      <td>Others</td>\n",
       "      <td>Science</td>\n",
       "      <td>77.48</td>\n",
       "      <td>Sci&amp;Tech</td>\n",
       "      <td>Yes</td>\n",
       "      <td>86.5</td>\n",
       "      <td>Mkt&amp;Fin</td>\n",
       "      <td>66.28</td>\n",
       "      <td>Placed</td>\n",
       "    </tr>\n",
       "    <tr>\n",
       "      <th>2</th>\n",
       "      <td>M</td>\n",
       "      <td>65.00</td>\n",
       "      <td>Central</td>\n",
       "      <td>68.00</td>\n",
       "      <td>Central</td>\n",
       "      <td>Arts</td>\n",
       "      <td>64.00</td>\n",
       "      <td>Comm&amp;Mgmt</td>\n",
       "      <td>No</td>\n",
       "      <td>75.0</td>\n",
       "      <td>Mkt&amp;Fin</td>\n",
       "      <td>57.80</td>\n",
       "      <td>Placed</td>\n",
       "    </tr>\n",
       "    <tr>\n",
       "      <th>3</th>\n",
       "      <td>M</td>\n",
       "      <td>56.00</td>\n",
       "      <td>Central</td>\n",
       "      <td>52.00</td>\n",
       "      <td>Central</td>\n",
       "      <td>Science</td>\n",
       "      <td>52.00</td>\n",
       "      <td>Sci&amp;Tech</td>\n",
       "      <td>No</td>\n",
       "      <td>66.0</td>\n",
       "      <td>Mkt&amp;HR</td>\n",
       "      <td>59.43</td>\n",
       "      <td>Not Placed</td>\n",
       "    </tr>\n",
       "    <tr>\n",
       "      <th>4</th>\n",
       "      <td>M</td>\n",
       "      <td>85.80</td>\n",
       "      <td>Central</td>\n",
       "      <td>73.60</td>\n",
       "      <td>Central</td>\n",
       "      <td>Commerce</td>\n",
       "      <td>73.30</td>\n",
       "      <td>Comm&amp;Mgmt</td>\n",
       "      <td>No</td>\n",
       "      <td>96.8</td>\n",
       "      <td>Mkt&amp;Fin</td>\n",
       "      <td>55.50</td>\n",
       "      <td>Placed</td>\n",
       "    </tr>\n",
       "  </tbody>\n",
       "</table>\n",
       "</div>"
      ],
      "text/plain": [
       "  gender  ssc_percentage ssc_board  hsc_percentage hsc_board hsc_subject  \\\n",
       "0      M           67.00    Others           91.00    Others    Commerce   \n",
       "1      M           79.33   Central           78.33    Others     Science   \n",
       "2      M           65.00   Central           68.00   Central        Arts   \n",
       "3      M           56.00   Central           52.00   Central     Science   \n",
       "4      M           85.80   Central           73.60   Central    Commerce   \n",
       "\n",
       "   degree_percentage undergrad_degree work_experience  emp_test_percentage  \\\n",
       "0              58.00         Sci&Tech              No                 55.0   \n",
       "1              77.48         Sci&Tech             Yes                 86.5   \n",
       "2              64.00        Comm&Mgmt              No                 75.0   \n",
       "3              52.00         Sci&Tech              No                 66.0   \n",
       "4              73.30        Comm&Mgmt              No                 96.8   \n",
       "\n",
       "  specialisation  mba_percent      status  \n",
       "0         Mkt&HR        58.80      Placed  \n",
       "1        Mkt&Fin        66.28      Placed  \n",
       "2        Mkt&Fin        57.80      Placed  \n",
       "3         Mkt&HR        59.43  Not Placed  \n",
       "4        Mkt&Fin        55.50      Placed  "
      ]
     },
     "execution_count": 127,
     "metadata": {},
     "output_type": "execute_result"
    }
   ],
   "source": [
    "df_overscaled.head()"
   ]
  },
  {
   "cell_type": "code",
   "execution_count": null,
   "metadata": {},
   "outputs": [],
   "source": []
  }
 ],
 "metadata": {
  "kernelspec": {
   "display_name": "base",
   "language": "python",
   "name": "python3"
  },
  "language_info": {
   "codemirror_mode": {
    "name": "ipython",
    "version": 3
   },
   "file_extension": ".py",
   "mimetype": "text/x-python",
   "name": "python",
   "nbconvert_exporter": "python",
   "pygments_lexer": "ipython3",
   "version": "3.9.13"
  },
  "orig_nbformat": 4,
  "vscode": {
   "interpreter": {
    "hash": "54276cef994636ab9b8d56eae654fa59e0f975e4c5e9036f3a5e7444d8535625"
   }
  }
 },
 "nbformat": 4,
 "nbformat_minor": 2
}
